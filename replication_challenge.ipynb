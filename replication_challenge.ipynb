{
  "cells": [
    {
      "cell_type": "code",
      "execution_count": null,
      "metadata": {
        "id": "-YOqpR8Wk2M8"
      },
      "outputs": [],
      "source": [
        "!pip install rouge\n",
        "!pip install sentence_transformers"
      ]
    },
    {
      "cell_type": "code",
      "execution_count": 2,
      "metadata": {
        "id": "TE0qQWmj4KyO"
      },
      "outputs": [],
      "source": [
        "import pandas as pd\n",
        "import numpy as np\n",
        "import math\n",
        "from rouge import Rouge\n",
        "from sentence_transformers import SentenceTransformer,util\n",
        "from tqdm import tqdm\n",
        "from sklearn.neural_network import MLPClassifier\n",
        "import requests\n",
        "from PIL import Image\n",
        "from io import BytesIO\n",
        "import json\n",
        "import tensorflow as tf\n",
        "from tensorflow.keras.applications import ResNet50\n",
        "from tensorflow.keras.models import Model\n",
        "from tensorflow.keras.preprocessing import image\n",
        "from tensorflow.keras.applications.resnet50 import preprocess_input, decode_predictions\n",
        "from sklearn.metrics.pairwise import cosine_similarity\n",
        "from sklearn.preprocessing import StandardScaler\n",
        "from sklearn.ensemble import RandomForestClassifier\n",
        "from sklearn.metrics import f1_score"
      ]
    },
    {
      "cell_type": "code",
      "execution_count": 3,
      "metadata": {
        "id": "H0-NmcX74XXL"
      },
      "outputs": [],
      "source": [
        "# load train dataset\n",
        "train_df= pd.read_csv('/content/drive/MyDrive/data/train_mod.csv',sep='\\t')"
      ]
    },
    {
      "cell_type": "code",
      "execution_count": 4,
      "metadata": {
        "id": "fESrdX3BCEjU"
      },
      "outputs": [],
      "source": [
        "# load train dataset\n",
        "val_df= pd.read_csv('/content/drive/MyDrive/data/val_mod.csv',sep='\\t')"
      ]
    },
    {
      "cell_type": "code",
      "execution_count": 7,
      "metadata": {
        "id": "HOeWzk9OhO9Y"
      },
      "outputs": [],
      "source": [
        "# load test dataset\n",
        "test_df = pd.read_csv('/content/drive/MyDrive/data/test_mod.csv', sep='\\t')"
      ]
    },
    {
      "cell_type": "code",
      "execution_count": null,
      "metadata": {
        "colab": {
          "base_uri": "https://localhost:8080/",
          "height": 222
        },
        "id": "Ad_Cyfjekizq",
        "outputId": "e96e96f9-8587-45bb-86cd-e8811897edf1"
      },
      "outputs": [
        {
          "data": {
            "application/vnd.google.colaboratory.intrinsic+json": {
              "summary": "{\n  \"name\": \"train_df\",\n  \"rows\": 35000,\n  \"fields\": [\n    {\n      \"column\": \"claim\",\n      \"properties\": {\n        \"dtype\": \"string\",\n        \"num_unique_values\": 27504,\n        \"samples\": [\n          \"Bihar: Visuals from polling booth number 46 to 49 in Hajipur. #LokSabhaElections2019 #Phase5 https://t.co/nBCyd1WiAe\",\n          \"As cases pile up in Dehradun, double-mutant in #COVID19 samples causes concern\\n\\n(@neerajsantoshi reports) \\n\\nhttps://t.co/2NGbbBlRZs https://t.co/j9VlBkj1Uo\",\n          \"India\\u2019s UNSC term critical for New Delhi, Paris, says French President\\u2019s top advisor\\n\\nhttps://t.co/L1vh9p06me https://t.co/LBLzhojMh5\"\n        ],\n        \"semantic_type\": \"\",\n        \"description\": \"\"\n      }\n    },\n    {\n      \"column\": \"claim_image\",\n      \"properties\": {\n        \"dtype\": \"string\",\n        \"num_unique_values\": 29382,\n        \"samples\": [\n          \"https://www.boomlive.in/wp-content/uploads/2019/08/idol-desecration.jpg\",\n          \"http://pbs.twimg.com/media/D8gSaL8U8AAOYwK.jpg?format=jpg&name=large\",\n          \"https://www.boomlive.in/h-upload/2021/06/10/950484-cowvideo.webp\"\n        ],\n        \"semantic_type\": \"\",\n        \"description\": \"\"\n      }\n    },\n    {\n      \"column\": \"document\",\n      \"properties\": {\n        \"dtype\": \"string\",\n        \"num_unique_values\": 19538,\n        \"samples\": [\n          \"The recovered Covid-19 cases in India are 3.4 times more than the active cases as of Tuesday, according to Union health ministry.There are 7,04,348 active coronavirus cases in the country which comprises 22.24 per cent of the total caseload, according to the health ministry data. With 60,975 fresh Covid-19 cases in a day, India\\u2019s tally rose to 31,67,323 with recoveries surging to 24,04,585, pushing the recovery rate to 75.92 per cent, according to health ministry.\\u201cActive cases are only 22.2 per cent of the total cases. The recovery rate is now more than 75 per cent,\\u201d Union health ministry secretary Rajesh Bhushan said while briefing the media on Tuesday.Out of the total active Covid-19 cases in the country, only 2.7 per cent of the patients are on oxygen support, the health ministry said. 1.92 per cent are in ICU, while 0.29 per cent are on ventilator support. In last 24 hours, India reported 848 deaths due to coronavirus. India\\u2019s Covid-19 case fatality rate has declined to 1.84 per cent, according to the health ministry data.Get our daily newsletterGet free access to newsletters, alerts and recommendations\",\n          \"In mid-November 2020, U.S. President\\u00a0Donald Trump\\u2018s reelection campaign sent supporters fundraising emails saying poll workers were thrown out of rooms where elections officials were counting ballots in the presidential election. (Read more fact checks like this one here.) \\u201cLarge numbers of poll watchers were thrown out of vote counting rooms in many key battleground states,\\u201d claimed a Nov. 17 email obtained by Snopes.  Separately, the Trump campaign sent supporters another fundraising email that claimed Republican poll watchers were not \\u201cthrown out\\u201d but prohibited from entering ballot-processing rooms altogether, suggesting that the alleged lack of surveillance benefited President-elect Joe Biden. \\u201cThe best description of this situation is widespread, nationwide voter fraud, of which this is a part,\\u201d Rudy Giuliani, Trump\\u2019s personal attorney, said of the alleged conspiracy by Democrats, without citing any evidence. Together, the emails and Giuliani\\u2019s statement claimed that some unidentified person, or a group of people, ordered Republican poll workers to leave ballot-counting rooms, or to not enter them in the first place \\u2014 essentially breaking laws that allow for poll observers to monitor the elections process on behalf of a political party or candidate. Before we unpack those allegations, let us explain about whom we\\u2019re talking. Every state allows some form of \\u201cpoll watching\\u201d or \\u201celection observing,\\u201d by means of which political parties or candidates appoint volunteers to monitor polling sites for fairness on Election Day. Additionally, states train and certify nonpartisan poll watchers to keep an eye out for any voting issues. Rules governing both types of poll watching, especially to combat any voter harassment or intimidation, vary state by state, and apply to poll watchers regardless of their political affiliation. \\u201cState rules vary on who can be a poll watcher, how many are allowed at polling places or local elections offices, and how they must conduct themselves inside the office or precinct,\\u201d according to The Associated Press. The Trump campaign alleged poll watchers were blocked from doing their jobs \\u201cin many key battleground states,\\u201d though it did not, in its emails, pinpoint one or more locations where this supposedly occurred. Giuliani, however, claimed Democrats in cities including Philadelphia, Pittsburgh, Atlanta, Las Vegas, and Phoenix were behind the alleged conspiracy to undermine Trump\\u2019s reelection. No poll watchers with the Democratic party raised issues with the 2020 election. For more details about the Trump campaign\\u2019s allegations, we referred to the campaign\\u2019s lawsuits challenging various aspects of the presidential election to determine where, exactly, the campaign believed citizen monitors were wrongfully kicked out of ballot-processing rooms. At least two legal complaints in Pennsylvania and Michigan involved Republican poll watchers. However, on Nov. 17, the Pennsylvania Supreme Court ruled distancing regulations at polling sites were \\u201creasonable\\u201d in that they allowed poll monitors to see what was happening, as prescribed by state law. (You can read that decision here.) The high court\\u2019s ruling countered an earlier decision by a lower court that sided with the Trump campaign.  Days before that decision, U.S. District Judge Paul S. Diamond asked a Trump campaign lawyer during a court hearing if poll watchers were allowed in the room where election workers were processing mail-in ballots in Philadelphia. \\u201cThere\\u2019s a nonzero number of people in the room,\\u201d campaign lawyer Jerome Marcus replied, acknowledging that Trump representatives were indeed present despite the campaign\\u2019s messaging. Additionally, Republican poll watchers in Michigan\\u2019s Wayne County filed a lawsuit alleging fraud during absentee ballot counting at a Detroit convention center. That litigation sought to halt the state\\u2019s vote certification process. But two judges found no evidence to support the accusations and allowed the process of certifying votes to proceed, finalizing the state\\u2019s voter tallies. Of separate lawsuits, The Associated Press reported: \\u201cOther lawsuits claimed poll watchers were temporarily denied access in some locations, but there has been no evidence to back it up. Nor was there evidence of votes being miscounted out of political bias. And most of the litigation alleging this has been dismissed.\\u201d In other words, there was no evidence of any person or entity blocking poll watchers\\u2019 access to polling sites on Election Day, no matter their presidential candidate of choice. Additionally, there were no reports of someone, or a group of people, \\u201cthrowing out\\u201d poll observers from rooms to which election laws guarantee them the right, as of this report. Those conclusions do not eliminate the possibility that poll watchers at some (or many) sites across the country were asked to follow distancing guidelines to prevent the spread of COVID-19 and avoid distracting voters. However, there\\u2019s no proof of such requests being part of a nefarious scheme to help Trump or Biden, or any political cause. We should note here: The emails about poll observers from Trump\\u2019s campaign asked supporters to chip in to a so-called \\u201cOfficial Election Defense Fund\\u201d or \\u201cElection Defense Task Force,\\u201d both of which the campaign framed as costly initiatives involving ballot recounts or various lawsuits to challenge Biden\\u2019s win. But according to Brendan Fischer, director of the federal reform program at Campaign Legal Center, the average donor\\u2019s money was not covering those expenses. Rather, people were giving their money to the Trump Make America Great Again Committee, where contributions are divided between Trump\\u2019s committees and the Republican National Committee. \\u201cSmall donors who give to Trump thinking they are financing an \\u2018official election defense fund\\u2019 are in fact helping pay down the Trump campaign\\u2019s debt or funding his post-presidential political operation,\\u201d Fischer tweeted. In sum, no evidence showed poll watchers were removed or prohibited from rooms were ballots were being counted in the Biden-Trump race, even though physical distancing rules may have affected the monitoring. In fact, one Republican lawyer representing Trump provided evidence to the contrary and acknowledged Republican poll watchers in Philadelphia were indeed allowed in ballot counting rooms.\",\n          \"Meghan Markle and Prince Harry on Sunday appeared for their first joint interview since they announced last year that they were stepping back from their duties as members of the British royal family. Meghan gave some shocking details of what\\u2019s happening in the royal family. Meghan told how she was made feel lonely and how she lost her freedom and had no access to many basic daily use things. \\u201cWhen I joined family, that was the last time I saw basic essentials things like Iron, kettle, TV remote. Queen used to hide them just to trouble me and in many events I was made to go in un-ironed dresses\\u201d she said. Prince Harry totally supported Meghan during the interview. \\u201cI also got to know about these things but didn\\u2019t believe it until I couldn\\u2019t find the kettle\\u201d said Prince Harry while adjusting his un-ironed suit.\"\n        ],\n        \"semantic_type\": \"\",\n        \"description\": \"\"\n      }\n    },\n    {\n      \"column\": \"document_image\",\n      \"properties\": {\n        \"dtype\": \"string\",\n        \"num_unique_values\": 26518,\n        \"samples\": [\n          \"http://pbs.twimg.com/media/Emw3eMNUwAA4G_H.png?format=jpg&name=large\",\n          \"http://pbs.twimg.com/media/Eu5xwzXVoAoqdTJ.jpg?format=jpg&name=large\",\n          \"https://www.snopes.com/tachyon/2020/12/counties_map.jpg?resize=865%2C452&crop_strategy=smart\"\n        ],\n        \"semantic_type\": \"\",\n        \"description\": \"\"\n      }\n    },\n    {\n      \"column\": \"Category\",\n      \"properties\": {\n        \"dtype\": \"category\",\n        \"num_unique_values\": 5,\n        \"samples\": [\n          \"Insufficient_Multimodal\",\n          \"Insufficient_Text\",\n          \"Support_Text\"\n        ],\n        \"semantic_type\": \"\",\n        \"description\": \"\"\n      }\n    },\n    {\n      \"column\": \"Claim OCR\",\n      \"properties\": {\n        \"dtype\": \"string\",\n        \"num_unique_values\": 19153,\n        \"samples\": [\n          \"//DEPARTURES\\nP.F\\nT.No deo add>\\n02976 db\\ns\\n02725 sforistado do qed 9\\nWestern Railways! Wishing y\\npe\\n13:30\\n13:00\",\n          \"JIES\\nCOVID ENTRY\\nUNLESTIE\\nANI\\nWILJE\\n13 14 15 65\",\n          \"...\\n6 December at 00:04:\\n\\u092f\\u0947 \\u0930\\u093e\\u0939\\u0941\\u0932 \\u0917\\u0927\\u093e \\u092c\\u093e\\u0930 \\u092c\\u093e\\u0930 \\u0915\\u094d\\u092f\\u094b \\u0938\\u093e\\u092c\\u093f\\u0924 \\u0915\\u0930\\u0924\\u093e \\u0939\\u0948 \\u0915\\u093f \\u0938\\u0939\\u0940 \\u092e\\u0947\\u0902 \\u0917\\u0927\\u093e \\u0939\\u0948\\u0964 99\\u096d\\nWhy does this rahul donkey prove again and again that he is a donkey in\\nthe right. 999\\n* Hide original Rate this translation\\n\\u092f\\u0939 \\u0935\\u094b \\u092e\\u0939\\u093e\\u0928 \\u0928\\u0947\\u0924\\u093e \\u0939\\u0948\\u0902 \\u091c\\u093f\\u0928\\u094d\\u0939\\u0947\\u0902 \\u092f\\u0939 \\u092d\\u0940 \\u0928\\u0939\\u0940\\u0902 \\u092e\\u093e\\u0932\\u0942\\u092e \\u0915\\u0947 \\u0938\\u0932\\u093e\\u092e\\u0940 \\u0915\\u093f\\u0938\\n\\u0939\\u093e\\u0925 \\u0938\\u0947 \\u0926\\u0947\\u0924\\u0947 \\u0939\\u0948\\u0902\\n\\u0914\\u0930 \\u092f\\u0939 \\u0926\\u0947\\u0936 \\u0915\\u093e \\u092a\\u094d\\u0930\\u0927\\u093e\\u0928 \\u092e\\u0902\\u0924\\u094d\\u0930\\u0940 \\u092c\\u0928\\u0928\\u093e \\u091a\\u093e\\u0939\\u0924\\u0947 \\u0939\\u0948\\u0902\"\n        ],\n        \"semantic_type\": \"\",\n        \"description\": \"\"\n      }\n    },\n    {\n      \"column\": \"Document OCR\",\n      \"properties\": {\n        \"dtype\": \"category\",\n        \"num_unique_values\": 16914,\n        \"samples\": [\n          \"non\\nhindustantimes\\n\\\"F\\nCongress and NCP are\\nnow standing with those\\nwho advocate for a\\nseparate prime minister\\nin Jammu and Kashmir\\nPRIME MINISTER NARENDRA MODI\\n(Source: ANI)\",\n          \"dailymail.co.uk/news/article-8131269/Fit-healthy-gym-goer-39-struggles-breathe-coronavirus.html\\nTara Jane Langston, 39, told of how every breath is a 'battle' but she is now out of\\nintensive care and recovering well.\\nThe mother-of-two was rushed to hospital by ambulance last Friday and eventually\\ndiagnosed with Covid-19 on Sunday.\\n39-year-old with coronavirus warns Britons not to take chances\\nK\\n\\u25b6\\u25b6 0:00/1:58\\n##\\nFacebook/Tara Jane Langston\\nA\\nK\",\n          \"CNN EXCLUSIVE\\nCNN\"\n        ],\n        \"semantic_type\": \"\",\n        \"description\": \"\"\n      }\n    },\n    {\n      \"column\": \"claim_length\",\n      \"properties\": {\n        \"dtype\": \"number\",\n        \"std\": 70,\n        \"min\": 13,\n        \"max\": 712,\n        \"num_unique_values\": 358,\n        \"samples\": [\n          378,\n          140,\n          280\n        ],\n        \"semantic_type\": \"\",\n        \"description\": \"\"\n      }\n    },\n    {\n      \"column\": \"document_length\",\n      \"properties\": {\n        \"dtype\": \"number\",\n        \"std\": 14599,\n        \"min\": 8,\n        \"max\": 1641275,\n        \"num_unique_values\": 6496,\n        \"samples\": [\n          2376,\n          310,\n          7503\n        ],\n        \"semantic_type\": \"\",\n        \"description\": \"\"\n      }\n    },\n    {\n      \"column\": \"rouge\",\n      \"properties\": {\n        \"dtype\": \"number\",\n        \"std\": 0.23399297215741788,\n        \"min\": 0.0,\n        \"max\": 1.0,\n        \"num_unique_values\": 698,\n        \"samples\": [\n          0.2222222222222222,\n          0.3191489361702128,\n          0.813953488372093\n        ],\n        \"semantic_type\": \"\",\n        \"description\": \"\"\n      }\n    },\n    {\n      \"column\": \"text_sim\",\n      \"properties\": {\n        \"dtype\": \"number\",\n        \"std\": 0.16878701437116525,\n        \"min\": -0.082664,\n        \"max\": 0.993392,\n        \"num_unique_values\": 28430,\n        \"samples\": [\n          0.467075,\n          0.374171,\n          0.622425\n        ],\n        \"semantic_type\": \"\",\n        \"description\": \"\"\n      }\n    },\n    {\n      \"column\": \"text_clip_label\",\n      \"properties\": {\n        \"dtype\": \"number\",\n        \"std\": 0,\n        \"min\": 0,\n        \"max\": 2,\n        \"num_unique_values\": 3,\n        \"samples\": [\n          0,\n          1,\n          2\n        ],\n        \"semantic_type\": \"\",\n        \"description\": \"\"\n      }\n    },\n    {\n      \"column\": \"img_sim\",\n      \"properties\": {\n        \"dtype\": \"number\",\n        \"std\": 0.2162054425273834,\n        \"min\": 0.0,\n        \"max\": 1.0000006,\n        \"num_unique_values\": 29981,\n        \"samples\": [\n          0.12181896,\n          0.6118328,\n          0.80648154\n        ],\n        \"semantic_type\": \"\",\n        \"description\": \"\"\n      }\n    },\n    {\n      \"column\": \"text_sim_2\",\n      \"properties\": {\n        \"dtype\": \"number\",\n        \"std\": 0.1659421395919462,\n        \"min\": -0.074564,\n        \"max\": 0.96796,\n        \"num_unique_values\": 28455,\n        \"samples\": [\n          0.575909,\n          0.671578,\n          0.771498\n        ],\n        \"semantic_type\": \"\",\n        \"description\": \"\"\n      }\n    }\n  ]\n}",
              "type": "dataframe",
              "variable_name": "train_df"
            },
            "text/html": [
              "\n",
              "  <div id=\"df-b68f28b8-cd2d-4869-897f-3ede2c867286\" class=\"colab-df-container\">\n",
              "    <div>\n",
              "<style scoped>\n",
              "    .dataframe tbody tr th:only-of-type {\n",
              "        vertical-align: middle;\n",
              "    }\n",
              "\n",
              "    .dataframe tbody tr th {\n",
              "        vertical-align: top;\n",
              "    }\n",
              "\n",
              "    .dataframe thead th {\n",
              "        text-align: right;\n",
              "    }\n",
              "</style>\n",
              "<table border=\"1\" class=\"dataframe\">\n",
              "  <thead>\n",
              "    <tr style=\"text-align: right;\">\n",
              "      <th></th>\n",
              "      <th>claim</th>\n",
              "      <th>claim_image</th>\n",
              "      <th>document</th>\n",
              "      <th>document_image</th>\n",
              "      <th>Category</th>\n",
              "      <th>Claim OCR</th>\n",
              "      <th>Document OCR</th>\n",
              "      <th>claim_length</th>\n",
              "      <th>document_length</th>\n",
              "      <th>rouge</th>\n",
              "      <th>text_sim</th>\n",
              "      <th>text_clip_label</th>\n",
              "      <th>img_sim</th>\n",
              "      <th>text_sim_2</th>\n",
              "    </tr>\n",
              "  </thead>\n",
              "  <tbody>\n",
              "    <tr>\n",
              "      <th>0</th>\n",
              "      <td>Delhi: Seventh round of meeting between Centra...</td>\n",
              "      <td>http://pbs.twimg.com/media/Eq4GUZmVoAAiSz4.jpg...</td>\n",
              "      <td>In their seventh attempt to end the logjam ove...</td>\n",
              "      <td>http://pbs.twimg.com/media/Eq4I0YaUcAcXQnO.jpg...</td>\n",
              "      <td>Support_Multimodal</td>\n",
              "      <td>ANI</td>\n",
              "      <td>संजय अग्रवाल\\nपीयूष गोयल\\nमे\\nद्र\\nd\\nANI</td>\n",
              "      <td>149</td>\n",
              "      <td>7985</td>\n",
              "      <td>0.833333</td>\n",
              "      <td>0.465989</td>\n",
              "      <td>0</td>\n",
              "      <td>0.630884</td>\n",
              "      <td>0.710226</td>\n",
              "    </tr>\n",
              "  </tbody>\n",
              "</table>\n",
              "</div>\n",
              "    <div class=\"colab-df-buttons\">\n",
              "\n",
              "  <div class=\"colab-df-container\">\n",
              "    <button class=\"colab-df-convert\" onclick=\"convertToInteractive('df-b68f28b8-cd2d-4869-897f-3ede2c867286')\"\n",
              "            title=\"Convert this dataframe to an interactive table.\"\n",
              "            style=\"display:none;\">\n",
              "\n",
              "  <svg xmlns=\"http://www.w3.org/2000/svg\" height=\"24px\" viewBox=\"0 -960 960 960\">\n",
              "    <path d=\"M120-120v-720h720v720H120Zm60-500h600v-160H180v160Zm220 220h160v-160H400v160Zm0 220h160v-160H400v160ZM180-400h160v-160H180v160Zm440 0h160v-160H620v160ZM180-180h160v-160H180v160Zm440 0h160v-160H620v160Z\"/>\n",
              "  </svg>\n",
              "    </button>\n",
              "\n",
              "  <style>\n",
              "    .colab-df-container {\n",
              "      display:flex;\n",
              "      gap: 12px;\n",
              "    }\n",
              "\n",
              "    .colab-df-convert {\n",
              "      background-color: #E8F0FE;\n",
              "      border: none;\n",
              "      border-radius: 50%;\n",
              "      cursor: pointer;\n",
              "      display: none;\n",
              "      fill: #1967D2;\n",
              "      height: 32px;\n",
              "      padding: 0 0 0 0;\n",
              "      width: 32px;\n",
              "    }\n",
              "\n",
              "    .colab-df-convert:hover {\n",
              "      background-color: #E2EBFA;\n",
              "      box-shadow: 0px 1px 2px rgba(60, 64, 67, 0.3), 0px 1px 3px 1px rgba(60, 64, 67, 0.15);\n",
              "      fill: #174EA6;\n",
              "    }\n",
              "\n",
              "    .colab-df-buttons div {\n",
              "      margin-bottom: 4px;\n",
              "    }\n",
              "\n",
              "    [theme=dark] .colab-df-convert {\n",
              "      background-color: #3B4455;\n",
              "      fill: #D2E3FC;\n",
              "    }\n",
              "\n",
              "    [theme=dark] .colab-df-convert:hover {\n",
              "      background-color: #434B5C;\n",
              "      box-shadow: 0px 1px 3px 1px rgba(0, 0, 0, 0.15);\n",
              "      filter: drop-shadow(0px 1px 2px rgba(0, 0, 0, 0.3));\n",
              "      fill: #FFFFFF;\n",
              "    }\n",
              "  </style>\n",
              "\n",
              "    <script>\n",
              "      const buttonEl =\n",
              "        document.querySelector('#df-b68f28b8-cd2d-4869-897f-3ede2c867286 button.colab-df-convert');\n",
              "      buttonEl.style.display =\n",
              "        google.colab.kernel.accessAllowed ? 'block' : 'none';\n",
              "\n",
              "      async function convertToInteractive(key) {\n",
              "        const element = document.querySelector('#df-b68f28b8-cd2d-4869-897f-3ede2c867286');\n",
              "        const dataTable =\n",
              "          await google.colab.kernel.invokeFunction('convertToInteractive',\n",
              "                                                    [key], {});\n",
              "        if (!dataTable) return;\n",
              "\n",
              "        const docLinkHtml = 'Like what you see? Visit the ' +\n",
              "          '<a target=\"_blank\" href=https://colab.research.google.com/notebooks/data_table.ipynb>data table notebook</a>'\n",
              "          + ' to learn more about interactive tables.';\n",
              "        element.innerHTML = '';\n",
              "        dataTable['output_type'] = 'display_data';\n",
              "        await google.colab.output.renderOutput(dataTable, element);\n",
              "        const docLink = document.createElement('div');\n",
              "        docLink.innerHTML = docLinkHtml;\n",
              "        element.appendChild(docLink);\n",
              "      }\n",
              "    </script>\n",
              "  </div>\n",
              "\n",
              "    </div>\n",
              "  </div>\n"
            ],
            "text/plain": [
              "                                               claim  \\\n",
              "0  Delhi: Seventh round of meeting between Centra...   \n",
              "\n",
              "                                         claim_image  \\\n",
              "0  http://pbs.twimg.com/media/Eq4GUZmVoAAiSz4.jpg...   \n",
              "\n",
              "                                            document  \\\n",
              "0  In their seventh attempt to end the logjam ove...   \n",
              "\n",
              "                                      document_image            Category  \\\n",
              "0  http://pbs.twimg.com/media/Eq4I0YaUcAcXQnO.jpg...  Support_Multimodal   \n",
              "\n",
              "  Claim OCR                               Document OCR  claim_length  \\\n",
              "0       ANI  संजय अग्रवाल\\nपीयूष गोयल\\nमे\\nद्र\\nd\\nANI           149   \n",
              "\n",
              "   document_length     rouge  text_sim  text_clip_label   img_sim  text_sim_2  \n",
              "0             7985  0.833333  0.465989                0  0.630884    0.710226  "
            ]
          },
          "execution_count": 20,
          "metadata": {},
          "output_type": "execute_result"
        }
      ],
      "source": [
        "train_df.head(1)"
      ]
    },
    {
      "cell_type": "code",
      "source": [
        "val_df.head(1)"
      ],
      "metadata": {
        "colab": {
          "base_uri": "https://localhost:8080/",
          "height": 133
        },
        "id": "LHQciBLaCMjo",
        "outputId": "194f1a31-0e74-4684-e715-7b3e42e60d6c"
      },
      "execution_count": 5,
      "outputs": [
        {
          "output_type": "execute_result",
          "data": {
            "text/plain": [
              "                                               claim  \\\n",
              "0  Musician Kodak Black was shot outside of a nig...   \n",
              "\n",
              "                                         claim_image  \\\n",
              "0  https://www.digitalmusicnews.com/wp-content/up...   \n",
              "\n",
              "                                            document  \\\n",
              "0  On 26 December 2016, the web site Gummy Post p...   \n",
              "\n",
              "                                      document_image Category Claim OCR  \\\n",
              "0  https://www.snopes.com/tachyon/2017/01/caution...   Refute             \n",
              "\n",
              "              Document OCR  claim_length  document_length     rouge  text_sim  \\\n",
              "0  CAUTION CAUTION CAUTION            81              527  0.923077  0.727481   \n",
              "\n",
              "   text_sim_2  text_clip_label   img_sim  \n",
              "0    0.733851                2  0.366395  "
            ],
            "text/html": [
              "\n",
              "  <div id=\"df-862eb182-8c57-44cc-9317-8965c54af3a7\" class=\"colab-df-container\">\n",
              "    <div>\n",
              "<style scoped>\n",
              "    .dataframe tbody tr th:only-of-type {\n",
              "        vertical-align: middle;\n",
              "    }\n",
              "\n",
              "    .dataframe tbody tr th {\n",
              "        vertical-align: top;\n",
              "    }\n",
              "\n",
              "    .dataframe thead th {\n",
              "        text-align: right;\n",
              "    }\n",
              "</style>\n",
              "<table border=\"1\" class=\"dataframe\">\n",
              "  <thead>\n",
              "    <tr style=\"text-align: right;\">\n",
              "      <th></th>\n",
              "      <th>claim</th>\n",
              "      <th>claim_image</th>\n",
              "      <th>document</th>\n",
              "      <th>document_image</th>\n",
              "      <th>Category</th>\n",
              "      <th>Claim OCR</th>\n",
              "      <th>Document OCR</th>\n",
              "      <th>claim_length</th>\n",
              "      <th>document_length</th>\n",
              "      <th>rouge</th>\n",
              "      <th>text_sim</th>\n",
              "      <th>text_sim_2</th>\n",
              "      <th>text_clip_label</th>\n",
              "      <th>img_sim</th>\n",
              "    </tr>\n",
              "  </thead>\n",
              "  <tbody>\n",
              "    <tr>\n",
              "      <th>0</th>\n",
              "      <td>Musician Kodak Black was shot outside of a nig...</td>\n",
              "      <td>https://www.digitalmusicnews.com/wp-content/up...</td>\n",
              "      <td>On 26 December 2016, the web site Gummy Post p...</td>\n",
              "      <td>https://www.snopes.com/tachyon/2017/01/caution...</td>\n",
              "      <td>Refute</td>\n",
              "      <td></td>\n",
              "      <td>CAUTION CAUTION CAUTION</td>\n",
              "      <td>81</td>\n",
              "      <td>527</td>\n",
              "      <td>0.923077</td>\n",
              "      <td>0.727481</td>\n",
              "      <td>0.733851</td>\n",
              "      <td>2</td>\n",
              "      <td>0.366395</td>\n",
              "    </tr>\n",
              "  </tbody>\n",
              "</table>\n",
              "</div>\n",
              "    <div class=\"colab-df-buttons\">\n",
              "\n",
              "  <div class=\"colab-df-container\">\n",
              "    <button class=\"colab-df-convert\" onclick=\"convertToInteractive('df-862eb182-8c57-44cc-9317-8965c54af3a7')\"\n",
              "            title=\"Convert this dataframe to an interactive table.\"\n",
              "            style=\"display:none;\">\n",
              "\n",
              "  <svg xmlns=\"http://www.w3.org/2000/svg\" height=\"24px\" viewBox=\"0 -960 960 960\">\n",
              "    <path d=\"M120-120v-720h720v720H120Zm60-500h600v-160H180v160Zm220 220h160v-160H400v160Zm0 220h160v-160H400v160ZM180-400h160v-160H180v160Zm440 0h160v-160H620v160ZM180-180h160v-160H180v160Zm440 0h160v-160H620v160Z\"/>\n",
              "  </svg>\n",
              "    </button>\n",
              "\n",
              "  <style>\n",
              "    .colab-df-container {\n",
              "      display:flex;\n",
              "      gap: 12px;\n",
              "    }\n",
              "\n",
              "    .colab-df-convert {\n",
              "      background-color: #E8F0FE;\n",
              "      border: none;\n",
              "      border-radius: 50%;\n",
              "      cursor: pointer;\n",
              "      display: none;\n",
              "      fill: #1967D2;\n",
              "      height: 32px;\n",
              "      padding: 0 0 0 0;\n",
              "      width: 32px;\n",
              "    }\n",
              "\n",
              "    .colab-df-convert:hover {\n",
              "      background-color: #E2EBFA;\n",
              "      box-shadow: 0px 1px 2px rgba(60, 64, 67, 0.3), 0px 1px 3px 1px rgba(60, 64, 67, 0.15);\n",
              "      fill: #174EA6;\n",
              "    }\n",
              "\n",
              "    .colab-df-buttons div {\n",
              "      margin-bottom: 4px;\n",
              "    }\n",
              "\n",
              "    [theme=dark] .colab-df-convert {\n",
              "      background-color: #3B4455;\n",
              "      fill: #D2E3FC;\n",
              "    }\n",
              "\n",
              "    [theme=dark] .colab-df-convert:hover {\n",
              "      background-color: #434B5C;\n",
              "      box-shadow: 0px 1px 3px 1px rgba(0, 0, 0, 0.15);\n",
              "      filter: drop-shadow(0px 1px 2px rgba(0, 0, 0, 0.3));\n",
              "      fill: #FFFFFF;\n",
              "    }\n",
              "  </style>\n",
              "\n",
              "    <script>\n",
              "      const buttonEl =\n",
              "        document.querySelector('#df-862eb182-8c57-44cc-9317-8965c54af3a7 button.colab-df-convert');\n",
              "      buttonEl.style.display =\n",
              "        google.colab.kernel.accessAllowed ? 'block' : 'none';\n",
              "\n",
              "      async function convertToInteractive(key) {\n",
              "        const element = document.querySelector('#df-862eb182-8c57-44cc-9317-8965c54af3a7');\n",
              "        const dataTable =\n",
              "          await google.colab.kernel.invokeFunction('convertToInteractive',\n",
              "                                                    [key], {});\n",
              "        if (!dataTable) return;\n",
              "\n",
              "        const docLinkHtml = 'Like what you see? Visit the ' +\n",
              "          '<a target=\"_blank\" href=https://colab.research.google.com/notebooks/data_table.ipynb>data table notebook</a>'\n",
              "          + ' to learn more about interactive tables.';\n",
              "        element.innerHTML = '';\n",
              "        dataTable['output_type'] = 'display_data';\n",
              "        await google.colab.output.renderOutput(dataTable, element);\n",
              "        const docLink = document.createElement('div');\n",
              "        docLink.innerHTML = docLinkHtml;\n",
              "        element.appendChild(docLink);\n",
              "      }\n",
              "    </script>\n",
              "  </div>\n",
              "\n",
              "    </div>\n",
              "  </div>\n"
            ],
            "application/vnd.google.colaboratory.intrinsic+json": {
              "type": "dataframe",
              "variable_name": "val_df",
              "summary": "{\n  \"name\": \"val_df\",\n  \"rows\": 7500,\n  \"fields\": [\n    {\n      \"column\": \"claim\",\n      \"properties\": {\n        \"dtype\": \"string\",\n        \"num_unique_values\": 6970,\n        \"samples\": [\n          \"Various restaurants around the world were shut down for serving  for serving human meat.\",\n          \"The ice in a photograph of a frozen river resembles the mask from the movie Scream.\",\n          \"US President Joe Biden has signed an executive order to rejoin the Paris Agreement on climate change: White House\\n\\n(file photo) https://t.co/R4NTqm1WB7\"\n        ],\n        \"semantic_type\": \"\",\n        \"description\": \"\"\n      }\n    },\n    {\n      \"column\": \"claim_image\",\n      \"properties\": {\n        \"dtype\": \"string\",\n        \"num_unique_values\": 7174,\n        \"samples\": [\n          \"http://pbs.twimg.com/media/EPLii9BUUAI8wXE.jpg?format=jpg&name=large\",\n          \"http://pbs.twimg.com/media/EQEdGnOVUAEnHgk.jpg?format=jpg&name=large\",\n          \"https://www.khaama.com/wp-content/uploads/2015/05/human-meat-Nigeria-restaurant.jpg\"\n        ],\n        \"semantic_type\": \"\",\n        \"description\": \"\"\n      }\n    },\n    {\n      \"column\": \"document\",\n      \"properties\": {\n        \"dtype\": \"string\",\n        \"num_unique_values\": 5537,\n        \"samples\": [\n          \"Prime Minister Narendra Modi will on Tuesday address rallies in poll-bound Kerala, Tamil Nadu and Puducherry, where elections will be held on April 6. According to the schedule shared by the Bharatiya Janata Party (BJP), the Prime Minister's day of rallies will start from Kerala where he will address a public meeting in Palakkad at 11am. The BJP has fielded 'Metro man' E Sreedharan, who recently joined the party, from the constituency.When he last visited Kerala in February, PM Modi laid the foundation stones for several development projects. These projects were part of the government's vision Atmanirbhar Bharat (self-reliant India).Elaborate security arrangements have been put in place in Palakkad for the Prime Minister's rally.The Citizenship Amendment Act (CAA) and Sabarimala temple are the key issues among others in the state. Addressing an election rally in Kottayam on Sunday, senior BJP leader and Union defence minister Rajnath Singh said the party will fulfill all promises made during elections. Singh said that the BJP will implement the CAA and three central laws to reform the farming sector.The BJP is contesting the election on 115 of the 140 seats in Kerala. The party is hoping to improve its tally from the last election, when it just won one seat - Nemom - in state capital Thiruvananthapuram. The state is currently ruled by Left Democratic Front (LDF).Prime Minister Shri @narendramodi will address rallies in Kerala, Tamil Nadu and Puducherry on 30 March 2021.Listen LIVE at\\u2022 https://t.co/vpP0MI6iTu\\u2022 https://t.co/KrGm5hWgwn\\u2022 https://t.co/vpP0MI6iTu\\u2022 https://t.co/jtwD1yPhm4Dial 9345014501 to hear him LIVE. pic.twitter.com/npucdz9OSgThe Prime Minister will then go to Tamil Nadu, where he is scheduled to address a rally in Dharapuram at 12.50pm. The BJP's state unit president L Murugan is contesting the assembly election from Dharapuram. PM Modi launched the party's election campaign from the constituency on February 25.The BJP has decided to fight the election with its alliance partner and ruling party All India Anna Dravida Munnetra Kazhagam (AIADMK).The assembly elections in Tamil Nadu will be held in a single phase and the counting of votes will be done on May 2.The next stop in PM Modi's itinerary is Puducherry, where he will address a public meeting at 4.35pm. This will be the Prime Minister's second visit to Puducherry to campaign for the National Democratic Alliance (NDA) candidates. He addressed a poll rally in the union territory on February 25 after unveiling several centrally-sponsored development projects.The AINRC, which heads the NDA in Puducherry, is contesting from 16 of the total 30 constituencies, while other constituents BJP and AIADMK are seeking election from nine and five seats, respectively.AINRC leader and former chief minister N Rangasamy is seeking election from two segments - Thattanchavady and Yanam.Get our daily newsletterGet free access to newsletters, alerts and recommendations\",\n          \"Hacienda did not say where the disabled patients would be moved to next.  Arizona long-term care facility closing unit where patient was allegedly rapedHacienda Healthcare, the Arizona facility where a nurse allegedly raped and impregnated a vegetative patient, has decided to close the unit where she was housed. The company said it \\\"has come to understand that it is simply not sustainable to continue to operate our Intermediate Care Facility for the Intellectually Disabled\\\" after a board directors vote earlier this month, according to a statement released Thursday. \\\"The Hacienda Healthcare Board of Directors, after a great deal of careful consideration, has come to understand that it is simply not sustainable to continue to operate our Intermediate Care Facility for the Intellectually Disabled,\\\" the statement said.  \\\"We have been working with the proper state agencies to develop a plan to help the State transition our ICF-ID patients to other facilities. \\\"Hacienda, a health care provider for \\\"medically fragile and chronically ill\\\" children and young adults, did not say if the patients would be moved to other facilities it operates or to ones owned by other companies. The announcement came two days after Nathan Sutherland, a 36-year-old former nurse, pleaded not guilty to sexual assault and abuse charges after he allegedly raped and impregnated an incapacitated patient at a Phoenix long-term care facility. The 29-year-old woman, who's been comatose for more than a decade, gave birth to a baby boy at Hacienda Healthcare in Phoenix on Dec.  29, sparking allegations of sexual abuse and concerns about patient safety. Investigators said Sutherland's DNA matched a sample from the woman's newborn.  Employees at the facility said they had no idea she was pregnant. Arizona Gov.  Doug Ducey, who recently requested an inquiry into how Hacienda employees didn't notice that a patient had been raped, said Hacienda's decision to move patients is \\u201cvery concerning. \\u201d\\u201cState agencies have been actively working to increase oversight at this facility to ensure patients are safe and well cared for.  For some patients at the facility, this is the only home they know or remember,\\\" Ducey told ABC affiliate KNXV in a statement Thursday.  \\\"Forcing this medically fragile community to move, should be a last resort.  Everyone\\u2019s first priority should be protecting their health and safety. \\u201dThe young woman's identity was withheld, but the San Carlos Apache Tribe confirmed she was as a member.  A spokesperson for the tribe said it is \\\"deeply shocked and horrified\\\" by the alleged abuse. \\\"When you have a loved one committed to palliative care, when they are most vulnerable and dependent upon others, you trust their caretakers,\\\" San Carlos Apache Tribe Chairman Terry Rambler said in a statement Tuesday.  \\\"Sadly, one of her caretakers was not to be trusted and took advantage of her.  It is my hope that justice will be served. \\\"Longtime CEO Bill Timmons resigned last month, a move also backed by the firm's board of directors, and the state's Department of Health Services said it would mandate the facility to operate under stronger guidelines for the time being. The woman's lawyer, John Michaels, said the baby is being cared for by her family.  \\\"The family obviously is outraged, traumatized and in shock by the abuse and neglect of their daughter at Hacienda Healthcare,\\\" Michaels said.  \\\"The family is well aware of the intense news and public interest in their daughter\\u2019s case, but at this time is not emotionally ready to make a public statement.  The family would like me to convey that the baby boy has been born into a loving family and will be well cared for. \\\"ABC News' Marilyn Heck contributed to this report. 24/7 coverage of breaking news and live events\",\n          \"Giving a message to voters in the national capital to come out and vote in the Assembly polls, a bridegroom from east Delhi on Saturday exercised his franchise on the day of his wedding and urged others to fulfil their responsibility towards the nation.Dhananjay, a bridegroom from east Delhi\\u2019s Shakarpur area, that is also part of Laxmi Nagar Assembly constituency, came out to vote with his entire family.Speaking to the media, Dhananjay, while standing outside MCD primary school polling booth here, said, \\u201cI have come out to exercise my franchise as I have a responsibility towards my nation. And I am fulfilling my duty towards the country.\\u201dWatch | Delhi: Groom votes before wedding; polls enthuse senior citizens, \\u2018divyang\\u2019\\u00a0He also said that his marriage is slated during the day and he will go for his marriage after casting his vote.Appealing to others, Dhanajay said, \\u201cEveryone must come out and vote.\\u201dVoting for the 70-member Assembly is underway in Delhi where the ruling AAP, BJP and Congress are in a direct fight against each other. Counting of votes will take place on February 11.Get our daily newsletterGet free access to newsletters, alerts and recommendations\"\n        ],\n        \"semantic_type\": \"\",\n        \"description\": \"\"\n      }\n    },\n    {\n      \"column\": \"document_image\",\n      \"properties\": {\n        \"dtype\": \"string\",\n        \"num_unique_values\": 6911,\n        \"samples\": [\n          \"http://pbs.twimg.com/media/D52iWPGUUAAjCU7.jpg?format=jpg&name=large\",\n          \"http://pbs.twimg.com/media/EvJlgtyVoAE-UUp.jpg?format=jpg&name=large\",\n          \"https://www.snopes.com/tachyon/2016/06/steph-curry1.jpg?resize=865%2C452&crop_strategy=smart\"\n        ],\n        \"semantic_type\": \"\",\n        \"description\": \"\"\n      }\n    },\n    {\n      \"column\": \"Category\",\n      \"properties\": {\n        \"dtype\": \"category\",\n        \"num_unique_values\": 5,\n        \"samples\": [\n          \"Support_Multimodal\",\n          \"Insufficient_Text\",\n          \"Support_Text\"\n        ],\n        \"semantic_type\": \"\",\n        \"description\": \"\"\n      }\n    },\n    {\n      \"column\": \"Claim OCR\",\n      \"properties\": {\n        \"dtype\": \"string\",\n        \"num_unique_values\": 4705,\n        \"samples\": [\n          \"The\\nSENSITIVES\\nTHE RISE OF\\nENVIRONMENTAL ILLNESS\\nAND THE SEARCH FOR AMERICA'S\\nLAST PURE PLACE\\n23\\nOLIVER BROUDY\\n\\\"Thoroughly engaging... Broudy's momentum rarely flags as he\\nwhirls between empathy and skepticism.\\\" -Shelf Awareness\",\n          \"\\u0936\\u0939\\u0940\\nmm\\nANI\",\n          \"The DNC announced the American flag may\\nnot be worn or waved at the convention\\nsince it is offensive to so many Demorats.\\nwww.UncleSamsMisguided Children.com\\nguided\\nChildren\"\n        ],\n        \"semantic_type\": \"\",\n        \"description\": \"\"\n      }\n    },\n    {\n      \"column\": \"Document OCR\",\n      \"properties\": {\n        \"dtype\": \"string\",\n        \"num_unique_values\": 4225,\n        \"samples\": [\n          \"Trying to Hatch an Egg or Catch Rare Pokemon?\\nCome down to the Muncie Animal Shelter to walk\\none of our dogs while you get your steps in!\\nJust come to the front desk and say you are here for\\nthe Pokemon dogs!\\nMuncie Animal Shelter\\nPok\\u00e9mov MAS 2401 S Gharkey St, Muncie, IN 47302\\n(765) 747-4845\",\n          \"EST\\nC\\n353\\nT\\nDO\\n3\\n628\\nOh, no you will not stand and clap for the\\nPresident... Nancy Pelosi scolding a Democrat\\nwho dared to stand. Photos taken from live\\nfeed of the State of the Union Address.\\nCHAMBER\\nMET\\nWA\\n95\\nGird\\nE\\n25\\u2082\\n530\\nOn\\nB\\nC\",\n          \"NIVE\\ncast\"\n        ],\n        \"semantic_type\": \"\",\n        \"description\": \"\"\n      }\n    },\n    {\n      \"column\": \"claim_length\",\n      \"properties\": {\n        \"dtype\": \"number\",\n        \"std\": 68,\n        \"min\": 5,\n        \"max\": 340,\n        \"num_unique_values\": 295,\n        \"samples\": [\n          309,\n          120,\n          302\n        ],\n        \"semantic_type\": \"\",\n        \"description\": \"\"\n      }\n    },\n    {\n      \"column\": \"document_length\",\n      \"properties\": {\n        \"dtype\": \"number\",\n        \"std\": 11480,\n        \"min\": 27,\n        \"max\": 273682,\n        \"num_unique_values\": 3611,\n        \"samples\": [\n          4948,\n          1768,\n          1278\n        ],\n        \"semantic_type\": \"\",\n        \"description\": \"\"\n      }\n    },\n    {\n      \"column\": \"rouge\",\n      \"properties\": {\n        \"dtype\": \"number\",\n        \"std\": 0.21710321423644532,\n        \"min\": 0.0,\n        \"max\": 1.0,\n        \"num_unique_values\": 576,\n        \"samples\": [\n          0.95,\n          0.2352941176470588,\n          0.303030303030303\n        ],\n        \"semantic_type\": \"\",\n        \"description\": \"\"\n      }\n    },\n    {\n      \"column\": \"text_sim\",\n      \"properties\": {\n        \"dtype\": \"number\",\n        \"std\": 0.16862829052331743,\n        \"min\": -0.079371,\n        \"max\": 0.95583,\n        \"num_unique_values\": 7061,\n        \"samples\": [\n          0.773813,\n          0.571573,\n          0.531819\n        ],\n        \"semantic_type\": \"\",\n        \"description\": \"\"\n      }\n    },\n    {\n      \"column\": \"text_sim_2\",\n      \"properties\": {\n        \"dtype\": \"number\",\n        \"std\": 0.1794908216889607,\n        \"min\": -0.108243,\n        \"max\": 0.952034,\n        \"num_unique_values\": 7054,\n        \"samples\": [\n          0.541646,\n          0.611112,\n          0.66376\n        ],\n        \"semantic_type\": \"\",\n        \"description\": \"\"\n      }\n    },\n    {\n      \"column\": \"text_clip_label\",\n      \"properties\": {\n        \"dtype\": \"number\",\n        \"std\": 0,\n        \"min\": 0,\n        \"max\": 2,\n        \"num_unique_values\": 3,\n        \"samples\": [\n          2,\n          0,\n          1\n        ],\n        \"semantic_type\": \"\",\n        \"description\": \"\"\n      }\n    },\n    {\n      \"column\": \"img_sim\",\n      \"properties\": {\n        \"dtype\": \"number\",\n        \"std\": 0.21798943928887726,\n        \"min\": 0.0,\n        \"max\": 1.0000005,\n        \"num_unique_values\": 7193,\n        \"samples\": [\n          0.77616346,\n          0.30416092,\n          0.75426865\n        ],\n        \"semantic_type\": \"\",\n        \"description\": \"\"\n      }\n    }\n  ]\n}"
            }
          },
          "metadata": {},
          "execution_count": 5
        }
      ]
    },
    {
      "cell_type": "code",
      "execution_count": null,
      "metadata": {
        "colab": {
          "base_uri": "https://localhost:8080/",
          "height": 222
        },
        "id": "lKauOenAknjV",
        "outputId": "46262640-549d-4941-aba0-e9b015f61115"
      },
      "outputs": [
        {
          "data": {
            "application/vnd.google.colaboratory.intrinsic+json": {
              "summary": "{\n  \"name\": \"test_df\",\n  \"rows\": 7500,\n  \"fields\": [\n    {\n      \"column\": \"claim\",\n      \"properties\": {\n        \"dtype\": \"string\",\n        \"num_unique_values\": 6947,\n        \"samples\": [\n          \"A photograph shows Michelle Obama with Princess Letizia and Carla Bruni-Sarkozy.\",\n          \"Pet owners face yet another hazard: radioactive kitty litter.\",\n          \"A man known as \\\"the booty tickler\\\" was arrested in Texas.\"\n        ],\n        \"semantic_type\": \"\",\n        \"description\": \"\"\n      }\n    },\n    {\n      \"column\": \"claim_image\",\n      \"properties\": {\n        \"dtype\": \"string\",\n        \"num_unique_values\": 7173,\n        \"samples\": [\n          \"http://pbs.twimg.com/amplify_video_thumb/1338513511614472192/img/ZnWJNMuGctHnRHrK.jpg?format=jpg&name=large\",\n          \"http://pbs.twimg.com/media/EaPbB3xWkAI-jnA.jpg?format=jpg&name=large\",\n          \"https://i.ytimg.com/vi/AlMJirgaQaI/mqdefault.jpg\"\n        ],\n        \"semantic_type\": \"\",\n        \"description\": \"\"\n      }\n    },\n    {\n      \"column\": \"document\",\n      \"properties\": {\n        \"dtype\": \"string\",\n        \"num_unique_values\": 5458,\n        \"samples\": [\n          \"\\nSep 08, 2021-Wednesday\\n \\n\\nMetro cities -  Delhi, Mumbai,\\n\\t\\t\\t\\t\\t\\t\\t\\t\\t\\t\\tChennai,\\n\\t\\t\\t\\t\\t\\t\\t\\t\\t\\t\\tKolkata\\n\\nOther cities -  Noida,\\n\\t\\t\\t\\t\\t\\t\\t\\t\\t\\t\\tGurgaon,\\n\\t\\t\\t\\t\\t\\t\\t\\t\\t\\t\\tBengaluru, Hyderabad, Bhopal\\n\\t\\t\\t\\t\\t\\t\\t\\t\\t\\t\\t, Chandigarh , Dehradun,\\n\\t\\t\\t\\t\\t\\t\\t\\t\\t\\t\\tIndore,\\n\\t\\t\\t\\t\\t\\t\\t\\t\\t\\t\\tJaipur,\\n\\t\\t\\t\\t\\t\\t\\t\\t\\t\\t\\tLucknow,\\n\\t\\t\\t\\t\\t\\t\\t\\t\\t\\t\\tPatna,\\n\\t\\t\\t\\t\\t\\t\\t\\t\\t\\t\\tRanchi\\n\\n\\t\\t\\t\\t\\t\\t\\t\\t\\t\\t\\tPowered by \\n1,973 out of 34307 samples found positive for Covid-19 in AssamWith 1,148 new Covid cases, Haryana's tally reaches 56,608Mumbai's Dharavi reports 12 coronavirus casesDelhi reports 1,544 new Covid casesAndhra Pradesh reports 9,927 new Covid-19 cases, 92 deathsChirag Paswan writes to CM Nitish Kumar, urging him to postpone NEET and JEE examinationsIn the past six months, more than 2,000 health personnel have got infected with Covid-19: Dr Srinivas RaoManipur reports 82 new Covid-19 casesWe read report on re-infection of one case in Hong Kong: ICMR DirectorOf the total Covid active cases in India, only 2.7% patients on oxygen suport: Health ministryTelangana reports 2,579 new Covid-19 cases, nine deathsTotal Covid recoveries surged to 24.04 lakh, pushing recovery rate to 75.92%Bihar detected 1,444 new Covid-19 positive cases on August 24Nainital High Court closes for sanitisation purpose after an employee tests positive for Covid-19351 more police personnel found Covid-19 positive and 3 died in last 24 hours in MaharashtraIndia reported 60,975 new cases of coronavirus disease (Covid-19) and 848 deaths in the last 24 hours, pushing the tally to 3,167,323, according to the Union health ministry's dashboard. Globally, India is the third worst-hit nation from the pandemic. India may overtake Brazil sometime in the next two weeks if the cases continue to grow at the same pace.Click here for complete coronavirus coverageMeanwhile, the global coronavirus tally has gone up to 23,827,049 cases and 817,252 deaths, according to worldometer.Follow latest updates on Covid-19 here:1,973 out of 34307 samples found positive for Covid-19 in Assam1,973 out of 34307 samples found positive for Covid-19 in Assam in the last 24 hours. With this, total number of cases rises to 94,592 including 73,090 recovered patients and 260 deaths. Number of active cases stands at 21,239: State Health DepartmentWith 1,148 new Covid cases, Haryana's tally reaches 56,6081,148 new Covid-19 cases, 1,091 recoveries and 10 deaths reported in Haryana today, taking total cases to 56,608 including 46,496 recoveries and 623 deaths: State Health DepartmentMumbai's Dharavi reports 12 coronavirus cases12 new Covid-19 cases reported in Dharavi area of Mumbai today. With this, total number of cases rises to 2,725 including 2,375 discharges and 90 active cases: Brihanmumbai Municipal Corporation (BMC), MaharashtraDelhi reports 1,544 new Covid casesDelhi reports 1,544 new Covid-19 cases, 1,155 discharges/recoveries/migrated and 17 deaths today. Total number of cases now at 1,64,071 including 1,47,743 recovered cases, 11,998 active cases & 4,330 deaths: Delhi GovernmentAndhra Pradesh reports 9,927 new Covid-19 cases, 92 deaths9,927 new Covid-19 cases, 9,419 recoveries and 92 deaths reported in Andhra Pradesh today. Total number of cases rises to 3,71,639 including 2,78,247 recoveries and 3,460 deaths. 89,932 cases are active: State Health DepartmentChirag Paswan writes to CM Nitish Kumar, urging him to postpone NEET and JEE examinationsLok Janshakti Party president Chirag Paswan writes to chief minister Nitish Kumar, urging him to request the Central government to postpone NEET and JEE examinations amid Covid-19 outbreak.In the past six months, more than 2,000 health personnel have got infected with Covid-19: Dr Srinivas RaoIn the past six months, more than 2,000 health personnel have got infected with Covid-19, & around 16 people have died due to it. We're giving medical treatment to infected & helping families of the deceased: Dr Srinivas Rao, Director of Public Health & Family Welfare, TelanganaManipur reports 82 new Covid-19 cases82 new Covid-19 cases reported in Manipur including 8 personnel from CAPF. The total number of cases in the State stands at 5,444 including 1,431 central security personnel. The recovery rate is 70.02%: State Health DepartmentWe read report on re-infection of one case in Hong Kong: ICMR DirectorWe have read report on re-infection of one case in Hong Kong. It can depend on several factors. It could be related to the patient's immune status, whether the virus has mutated. We need to closely follow it up, but at the same time we don't need to be alarmed: ICMR DirectorOf the total Covid active cases in India, only 2.7% patients on oxygen suport: Health ministryOut of the total Covid-19 active cases in India, only 2.7% patients are on oxygen support, 1.92% patients are in ICU and 0.29% patients are on ventilator support: Rajesh Bhushan, Secretary, Union Health MinistryTelangana reports 2,579 new Covid-19 cases, nine deathsAs many as 2,579 Covid-19 positive cases and nine deaths were reported in Telangana on August 24, taking the total number of cases in the state to 1,08,670, according to the State Health Department on Tuesday.Total Covid recoveries surged to 24.04 lakh, pushing recovery rate to 75.92%Total Covid recoveries have surged to 24.04 lakh, pushing recovery rate to 75.92 per cent, while active cases comprise only 22.24 per cent of total cases: Union Health MinistryBihar detected 1,444 new Covid-19 positive cases on August 24Bihar detected 1,444 new Covid-19 positive cases on 24th August. Active cases in the state are 22,837: State Health DepartmentNainital High Court closes for sanitisation purpose after an employee tests positive for Covid-19Uttarakhand: Nainital High Court closes for sanitisation purpose after an employee tests positive for Covid-19. Court to re-open on August 27.351 more police personnel found Covid-19 positive and 3 died in last 24 hours in Maharashtra351 more police personnel found Covid-19 positive and 3 died in the last 24 hours in Maharashtra. Total number of coronavirus positive police personnel in Maharashtra reaches 14,067 including 2,569 active cases, 11,356 recoveries and 142 deaths till date: Maharashtra PoliceFirst published: Aug 25, 2020 06:39 IST\",\n          \"BJP stalwart BS Yediyurappa was sworn in as the chief minister of Karnataka for 4th time at 6:30 pm on Friday evening, three days after the collapse of coalition government led by HD\\u2009Kumaraswamy in a trust motion. The oath of office and secrecy was administered by Governor Vajubhai Vala at a ceremony at the Raj Bhavan.Earlier today, Yediyurappa had met Governor Vajubhai Vala to stake the claim to form the government and requested him to administer the oath of office and secrecy on Friday itself. Yediyurappa said as the acting Leader of the Opposition he didn\\u2019t need to call a Legislature Party meeting to get himself elected as the leader. The 76-year-old leader from the politically dominant Lingayat community has taken oath as Karnataka\\u2019s CM for the fourth time \\u2014 the last one was after the May 2018 Assembly polls.HighlightsConfidence motion to take place on MondayChief Minister of Karnataka BS Yediyurappa has said that they strength of his government will be tested on Monday in a confidence motion. The CM has also said that the state assembly will take up the finance bill immediately after the confidence motion.Promises galore by Yediyurappa within an hour of taking oathThe newly appointed chief minister of Karnataka has promised to address the drought facing the farmers in the state. \\u201cWe will focus primarily on farmers and workers. I have taken two prominent decisions at the Cabinet meeting. In addition to the PM Kisan scheme I will also provide two installments of Rs 2000 to the beneficiaries.\\u201dBSY thanks PM Modi, Amit Shah after becoming CMAddressing the reporters, CM Yediyurappa said, \\u201cI have come to this place thanks to prime minister Narendra Modi and home minister Amit Shah.\\u201dI believe in forget and forgive, says BSY rejecting politics of revengeIn 4-5 months, Yediyurappa said, that his party has to show the difference between our government and the coalition government. \\u201cAdministration has collapsed and we need to rectify that. We will not go in for politics of revenge. I believe in forget and forgive, the fourth times CM of Karnataka said. I thank 6 crore people of Karnataka for making me the CM: YediyurappaAddressing his first press conference after taking charge as CM, Yediyurappa said, \\u201cI thank the 6 crore people of Karnataka for making me the chief minister of the state. I feel that my becoming chief minister is a matter of pride for the people.\\u201dMuralidhar Rao, SM Krishna present at the swearing-in ceremonyBJP general secretary Muralidhar Rao along with former Karnataka Chief Minister SM Krishna-- who joined the BJP on March 22, 2017-- was present for the function. Congress rebel MLA Roshan Baig was also present for the swearing-in despite Bajrang Dal activists opposing his presence in messages posted on social media.BS Yediyurappa takes oath as CMBJP\\u2019s face in Karnataka BS Yediyurappa has taken oath as the state\\u2019s next chief minister at 6:30 pm. Yediyurappa is the 23rd chief minister of Karnataka state, different from the Mysore state that existed before that. Draped in white safari suite, with a folded green shawl over his shoulders, the 75-year-old Yediyurappa took oath in Kannada in the name of god in the presence of dignitaries, special invitees and top officials of the state, including police officers.Karnataka Governor arrives at Raj BhawanGovernor Vajubhai Vala has arrived at Raj Bhavan to administer BS Yediyurappa\\u2019s oath.CM designate BS Yediyurappa arrives at Raj BhavanOath will be administered to BJP leader BS Yediyurappa shortly who has arrived at the Raj Bhavan. Yediyurappa today met Governor Vajubhai Vala to stake the claim and requested him to administer him the oath of office and secrecy on Friday itself between 6 -6:15 pm.BJP will provide stable government in Karnataka: NaddaDismissing the Opposition\\u2019s claim that his party engineered defections to bring down the Congress-JD(S) government in Karnataka, BJP working president J P Nadda said on Saturday that it fell due to internal reasons and asserted that his party would provide a stable government in the state.Hold orders issued by Kumaraswamy: Karnataka Chief Secretary to SecretariesKarnataka Chief Secretary T.M. Vijaybhaskar has ordered all departmental Secretaries to put on hold the orders given by caretaker Chief Minister H D Kumaraswamy in July.\\u201cB S Yediyurappa has given directions suggesting all Dept Secretaries to put on hold the orders given by care-taker Chief Minister (HD Kumaraswamy) in July, till they are looked into by Chief Secretary or Dept. Secretaries,\\u201d he said in a letter to the Secretaries.Congress, JD-S to boycott Yediyurappa\\u2019s swearing-inCongress and JD(S) have decided to boycott the swearing-in of BJP leader BS Yediyurappa as the state\\u2019s chief minister on Friday evening. \\u201cOur party\\u2019s state President Dinesh Gundu Rao has directed our leaders, former ministers and legislators to boycott Yediyurappa\\u2019s oath-taking ceremony as chief minister, as he has no moral right to assume power when his party does not have the majority in the Assembly,\\u201d Congress spokesman Ravi Gowda said.Yediyurappa visits BJP office before taking oathShortly before taking oath as chief minister of Karnataka, senior BJP leader B S Yediyurappa on Friday addressed his party workers at the state BJP headquarters and thanked the party workers for their continued support.\\u2018Karnataka govt fell on its own\\u2019, says BJP\\u2019s working president JP NaddaParty\\u2019s Working President JP Nadda said that the Karnataka government had collapsed due to its own reasons and the BJP will provide a \\u201cstable\\u201d and \\u201cclean\\u201d government under BS Yediyurappa\\u2019s leadership. Nadda, also rejected suggestions that party\\u2019s Karnataka mascot was over the hill at 76 years of age and may not qualify to hold a post according to BJP\\u2019s own retirement policy for party elders.Read full story here.Yediyurappa offers prayers at Kadu Malleshwara templeBJP\\u2019s state president BS Yediyurappa offers prayers at Kadu Malleshwara temple in Bengaluru ahead of taking oath as chief minister at 6 pm today.Yediyurappa visits National Military Memorial ahead of swearing-inYediyurappa paid tributes at the National Military Memorial ahead of taking oath as the 25th Chief Minister of the state. \\u201cOn this day 20 years ago, Indian armed forces defeated Pakistan in 1999 in the Kargil war. As a mark of respect to all soldiers who fought this great war, I have come here to pay my tribute to our armed forces before taking oath as the Chief Minister of Karnataka,\\u201d Yediyurappa told reporters before visiting the memorial. On account of 20th year of Kargil Vijay Diwas, visited Bengaluru\\u2019s National Military Memorial to pay tributes to our brave hearts. Our MLAs were present. #KargilVijayDiwas pic.twitter.com/wXU0N7WJdRYediyurappa preps for oath, changes spelling again on astrologer\\u2019s adviceYediyurappa has gone to great lengths this time around to ensure that he enjoys a good stint at power having reverted to spelling his name as Yediyurappa as he used to before 2007, when he changed it to Yeddyurappa. The changed in spelling has come because he felt Yeddyurappa wasn\\u2019t lucky, especially because he has not managed a full five-year term in his previous three attempts.Read full story here.Get our daily newsletterGet free access to newsletters, alerts and recommendations\",\n          \"Thurl Ravenscroft, the famous voice behind Tony the Tiger (as well as many other Disney animated characters and theme park narrations), sings lead on the \\u201cGrim Grinning Ghosts\\u201d song mouthed by the busts in the graveyard. His image is the one projected onto the broken bust, also known as \\u201cUncle Theodore.\\u201d Because Thurl bears a slight facial resemblance to Walt Disney (including a similar style of mustache) in the film used for one of the Haunted Mansion busts, many park visitors have confused his likeness with that of Walt Disney. (The notion that Walt\\u2019s image was used on the broken bust as a symbolic tribute to a \\u201cfallen\\u201d leader has helped to perpetuate the rumor, but Walt passed away a few years before the singing bust films were made. Nonetheless, this piece of Disney lore continues to be passed around as true by Disney cast members.) The images on the other four busts are those of the singers who harmonize on \\u201cGrim Grinning Ghosts\\u201d behind Thurl Ravenscroft\\u2019s lead bass vocal (no, despite the remarkable resemblance, Leslie Nielsen is not one of them): Chuck Schroeder, Bob Ebright, Jay Meyer, and Verne Rowe. Eastman, Tish. \\u00a0 \\u201cThe Story Behind Buddy Baker\\u2019s Score for the Haunted Mansion.\\u201d\\n\\u00a0 \\u00a0 Persistence of Vision. \\u00a0 Issue #9 \\u00a0 (p. 44).\"\n        ],\n        \"semantic_type\": \"\",\n        \"description\": \"\"\n      }\n    },\n    {\n      \"column\": \"document_image\",\n      \"properties\": {\n        \"dtype\": \"string\",\n        \"num_unique_values\": 6898,\n        \"samples\": [\n          \"http://pbs.twimg.com/media/D25LcRcUgAE0e4S.jpg?format=jpg&name=large\",\n          \"http://pbs.twimg.com/media/EyYF5suUcAA7h5u.jpg?format=jpg&name=large\",\n          \"http://pbs.twimg.com/amplify_video_thumb/1293387733533155329/img/fxpiZ5W1786Hyf9V.jpg?format=jpg&name=large\"\n        ],\n        \"semantic_type\": \"\",\n        \"description\": \"\"\n      }\n    },\n    {\n      \"column\": \"Category\",\n      \"properties\": {\n        \"dtype\": \"category\",\n        \"num_unique_values\": 5,\n        \"samples\": [\n          \"Insufficient_Text\",\n          \"Support_Multimodal\",\n          \"Refute\"\n        ],\n        \"semantic_type\": \"\",\n        \"description\": \"\"\n      }\n    },\n    {\n      \"column\": \"Claim OCR\",\n      \"properties\": {\n        \"dtype\": \"string\",\n        \"num_unique_values\": 4509,\n        \"samples\": [\n          \"ANI\\nFOUNDING MEMBERS OF THE UNITED NATIONS.\",\n          \"\\u0915\\u093e\\u0930\\u094d\\u092f\\u093e\\u0932\\u092f \\u091c\\u093f\\u0932\\u093e \\u0939\\u0940\\u0930\\u093e\\n\\u0905\\u0927\\u093f\\u0915\\u093e\\u0930\\u0940 \\u092a\\u0928\\u094d\\u0928\\u093e\\nANI\\n\\u0939\\u0940\\u0930\\u093e\",\n          \"NORTH GOA\\nRECOVERY RATE\\n92.21%\\nHOME ISOLATION\\nCUMULATIVE\\n33125\\n237 (NEW)\\nTEST PER MILLION\\n390685\\nIntegrated Disease Surveillance Programme (IDSP)\\nDirectorate of Health Services,\\nACTIVE CASES\\nCOMMUNITY HEALTH CENTRE BICHOLIM\\nCOMMUNITY HEALTH CENTRE SANKHALI\\nCOMMUNITY HEALTH CENTRE PERNEM\\nCOMMUNITY HEALTH CENTRE VALPOI\\nCampal, Panaji-Goa\\nTel No. 0832-2225538\\nE-mail id: gassu.idsp@nic.in\\nURBAN HEALTH CENTRE MAPUSA\\nURBAN HEALTH CENTRE PANAJI\\nPRIMARY HEALTH CENTRE ALDONA\\nPRIMARY HEALTH CENTRE BETKI\\nPRIMARY HEALTH CENTRE CANDOLIM\\nPRIMARY HEALTH CENTRE CANSARVANEM\\nPRIMARY HEALTH CENTRE COLVALE\\nPRIMARY HEALTH CENTRE CORLIM\\nPRIMARY HEALTH CENTRE CHIMBEL\\nPRIMARY HEALTH CENTRE SIOLIM\\nPRIMARY HEALTH CENTRE PORVORIM\\nPRIMARY HEALTH CENTRE MAYEM\\nTRAVELLERS BY (ROAD,FLIGHT, TRAIN)\\nDISTRICT\\nNORTH\\nSOUTH\\nGOA MEDIA BULLETIN\\nRECOVERED PATIENTS\\nHOSPITALIZED PATIENTS\\n106\\n78\\n86\\n30\\n212\\n295\\n74\\nBREAKUP OF TOTAL 3969 ACTIVE POSITIVE CASES\\n20\\n291\\n27\\n53\\n123\\n10TH APRIL 2021\\n121\\n146\\n415\\n30\\n56964\\n19\\nCUMULATIVE\\n16912\\n66 (NEW)\\nTOTAL CASES\\nCUMULATIVE\\n61779\\n540 (NEW)\\n3969\\nSOUTH GOA\\nRECOVERY IN LAST 24 HOURS\\nSAMPLES TESTED\\nPRIMARY HEALTH CENTRE BALLI\\nCOMMUNITY HEALTH CENTRE CURCHOREM\\nCOMMUNITY HEALTH CENTRE CANACONA\\nURBAN HEALTH CENTRE MARGAO\\nURBAN HEALTH CENTRE VASCO\\nTOTAL CAPACITY\\n275\\n167\\nCUMULATIVE\\n569832\\n2960 (NEW)\\nBED CAPACITY IN COVID CARE CENTRES\\n144\\nDEATHS\\nCUMULATIVE\\n846\\n01 (NEW)\\nPRIMARY HEALTH CENTRE CANSAULIM\\nPRIMARY HEALTH CENTRE CHINCHINIM\\nPRIMARY HEALTH CENTRE CORTALIM\\nPRIMARY HEALTH CENTRE CURTORIM\\nPRIMARY HEALTH CENTRE LOUTOLIM\\nPRIMARY HEALTH CENTRE MARCAIM\\nPRIMARY HEALTH CENTRE QUEPEM\\nPRIMARY HEALTH CENTRE SANGUEM\\nPRIMARY HEALTH CENTRE SHIRODA\\nPRIMARY HEALTH CENTRE DHARBANDORA\\nPRIMARY HEALTH CENTRE PONDA\\nPRIMARY HEALTH CENTRE NAVELIM\\nCURRENT VACANCY\\n275\\n80\\n56\\n68\\n386\\n179\\n40\\n120\\n78\\n231\\n52\\n58\\n24\\n28\\n79\\n50\\n40\\n304\\n50\"\n        ],\n        \"semantic_type\": \"\",\n        \"description\": \"\"\n      }\n    },\n    {\n      \"column\": \"Document OCR\",\n      \"properties\": {\n        \"dtype\": \"string\",\n        \"num_unique_values\": 4045,\n        \"samples\": [\n          \"According to the FBI,\\nsome astrological signs\\nare more likely to\\ncommit crimes than\\nothers. What is the dark\\nside of your sign?\",\n          \"ONSIN\\nS WITH\\nKER\\nEr\\nAGAIN\\nBROWN A\\n19600105\\ncott\\nValke\\nSco\\nW\\nSco\\nWa\\nScott\\nSco Walk\\nV\\nRELIEVE IN WISCONSIN\\nWalker\\nSCONSIN AGAIN\\nWALKER\\nScott\\nWalker\\nBELIEVE IN\\nAN\\nScott\\nWal\\nCott\\nWall\\nBELIEVE IN WISCON\\nTEXT SCOT\\nROWNBAGM\",\n          \"PB08- DR 3503\"\n        ],\n        \"semantic_type\": \"\",\n        \"description\": \"\"\n      }\n    },\n    {\n      \"column\": \"claim_length\",\n      \"properties\": {\n        \"dtype\": \"number\",\n        \"std\": 70,\n        \"min\": 5,\n        \"max\": 336,\n        \"num_unique_values\": 298,\n        \"samples\": [\n          181,\n          117,\n          46\n        ],\n        \"semantic_type\": \"\",\n        \"description\": \"\"\n      }\n    },\n    {\n      \"column\": \"document_length\",\n      \"properties\": {\n        \"dtype\": \"number\",\n        \"std\": 11267,\n        \"min\": 27,\n        \"max\": 149411,\n        \"num_unique_values\": 3643,\n        \"samples\": [\n          2624,\n          2717,\n          1558\n        ],\n        \"semantic_type\": \"\",\n        \"description\": \"\"\n      }\n    },\n    {\n      \"column\": \"rouge\",\n      \"properties\": {\n        \"dtype\": \"number\",\n        \"std\": 0.21751294025399268,\n        \"min\": 0.0,\n        \"max\": 1.0,\n        \"num_unique_values\": 586,\n        \"samples\": [\n          0.9393939393939394,\n          0.9487179487179488,\n          0.0588235294117647\n        ],\n        \"semantic_type\": \"\",\n        \"description\": \"\"\n      }\n    },\n    {\n      \"column\": \"text_sim\",\n      \"properties\": {\n        \"dtype\": \"number\",\n        \"std\": 0.18003568351657204,\n        \"min\": -0.139677,\n        \"max\": 0.943842,\n        \"num_unique_values\": 7026,\n        \"samples\": [\n          0.258728,\n          0.704073,\n          0.386073\n        ],\n        \"semantic_type\": \"\",\n        \"description\": \"\"\n      }\n    },\n    {\n      \"column\": \"text_clip_label\",\n      \"properties\": {\n        \"dtype\": \"number\",\n        \"std\": 0,\n        \"min\": 0,\n        \"max\": 2,\n        \"num_unique_values\": 3,\n        \"samples\": [\n          0,\n          1,\n          2\n        ],\n        \"semantic_type\": \"\",\n        \"description\": \"\"\n      }\n    },\n    {\n      \"column\": \"img_sim\",\n      \"properties\": {\n        \"dtype\": \"number\",\n        \"std\": 0.22359421781774316,\n        \"min\": 0.0,\n        \"max\": 1.0000005,\n        \"num_unique_values\": 7119,\n        \"samples\": [\n          0.1630265,\n          0.35808635,\n          0.22183919\n        ],\n        \"semantic_type\": \"\",\n        \"description\": \"\"\n      }\n    },\n    {\n      \"column\": \"text_sim_2\",\n      \"properties\": {\n        \"dtype\": \"number\",\n        \"std\": 0.1686654839526766,\n        \"min\": -0.055544,\n        \"max\": 0.945614,\n        \"num_unique_values\": 7041,\n        \"samples\": [\n          0.516948,\n          0.764405,\n          0.527912\n        ],\n        \"semantic_type\": \"\",\n        \"description\": \"\"\n      }\n    }\n  ]\n}",
              "type": "dataframe",
              "variable_name": "test_df"
            },
            "text/html": [
              "\n",
              "  <div id=\"df-afd7580a-fc57-40a9-a52f-7f08d58733a7\" class=\"colab-df-container\">\n",
              "    <div>\n",
              "<style scoped>\n",
              "    .dataframe tbody tr th:only-of-type {\n",
              "        vertical-align: middle;\n",
              "    }\n",
              "\n",
              "    .dataframe tbody tr th {\n",
              "        vertical-align: top;\n",
              "    }\n",
              "\n",
              "    .dataframe thead th {\n",
              "        text-align: right;\n",
              "    }\n",
              "</style>\n",
              "<table border=\"1\" class=\"dataframe\">\n",
              "  <thead>\n",
              "    <tr style=\"text-align: right;\">\n",
              "      <th></th>\n",
              "      <th>claim</th>\n",
              "      <th>claim_image</th>\n",
              "      <th>document</th>\n",
              "      <th>document_image</th>\n",
              "      <th>Category</th>\n",
              "      <th>Claim OCR</th>\n",
              "      <th>Document OCR</th>\n",
              "      <th>claim_length</th>\n",
              "      <th>document_length</th>\n",
              "      <th>rouge</th>\n",
              "      <th>text_sim</th>\n",
              "      <th>text_clip_label</th>\n",
              "      <th>img_sim</th>\n",
              "      <th>text_sim_2</th>\n",
              "    </tr>\n",
              "  </thead>\n",
              "  <tbody>\n",
              "    <tr>\n",
              "      <th>0</th>\n",
              "      <td>Delhi: Group of students protest outside offic...</td>\n",
              "      <td>http://pbs.twimg.com/media/EOJMHR4VUAALSeG.jpg...</td>\n",
              "      <td>Hundreds of Jamia Millia Islamia students prot...</td>\n",
              "      <td>http://pbs.twimg.com/media/EOJ4Q47UcAAq6wy.jpg...</td>\n",
              "      <td>Insufficient_Multimodal</td>\n",
              "      <td>ANI</td>\n",
              "      <td>NaN</td>\n",
              "      <td>230</td>\n",
              "      <td>1778</td>\n",
              "      <td>0.615385</td>\n",
              "      <td>0.712563</td>\n",
              "      <td>0</td>\n",
              "      <td>0.619836</td>\n",
              "      <td>0.765613</td>\n",
              "    </tr>\n",
              "  </tbody>\n",
              "</table>\n",
              "</div>\n",
              "    <div class=\"colab-df-buttons\">\n",
              "\n",
              "  <div class=\"colab-df-container\">\n",
              "    <button class=\"colab-df-convert\" onclick=\"convertToInteractive('df-afd7580a-fc57-40a9-a52f-7f08d58733a7')\"\n",
              "            title=\"Convert this dataframe to an interactive table.\"\n",
              "            style=\"display:none;\">\n",
              "\n",
              "  <svg xmlns=\"http://www.w3.org/2000/svg\" height=\"24px\" viewBox=\"0 -960 960 960\">\n",
              "    <path d=\"M120-120v-720h720v720H120Zm60-500h600v-160H180v160Zm220 220h160v-160H400v160Zm0 220h160v-160H400v160ZM180-400h160v-160H180v160Zm440 0h160v-160H620v160ZM180-180h160v-160H180v160Zm440 0h160v-160H620v160Z\"/>\n",
              "  </svg>\n",
              "    </button>\n",
              "\n",
              "  <style>\n",
              "    .colab-df-container {\n",
              "      display:flex;\n",
              "      gap: 12px;\n",
              "    }\n",
              "\n",
              "    .colab-df-convert {\n",
              "      background-color: #E8F0FE;\n",
              "      border: none;\n",
              "      border-radius: 50%;\n",
              "      cursor: pointer;\n",
              "      display: none;\n",
              "      fill: #1967D2;\n",
              "      height: 32px;\n",
              "      padding: 0 0 0 0;\n",
              "      width: 32px;\n",
              "    }\n",
              "\n",
              "    .colab-df-convert:hover {\n",
              "      background-color: #E2EBFA;\n",
              "      box-shadow: 0px 1px 2px rgba(60, 64, 67, 0.3), 0px 1px 3px 1px rgba(60, 64, 67, 0.15);\n",
              "      fill: #174EA6;\n",
              "    }\n",
              "\n",
              "    .colab-df-buttons div {\n",
              "      margin-bottom: 4px;\n",
              "    }\n",
              "\n",
              "    [theme=dark] .colab-df-convert {\n",
              "      background-color: #3B4455;\n",
              "      fill: #D2E3FC;\n",
              "    }\n",
              "\n",
              "    [theme=dark] .colab-df-convert:hover {\n",
              "      background-color: #434B5C;\n",
              "      box-shadow: 0px 1px 3px 1px rgba(0, 0, 0, 0.15);\n",
              "      filter: drop-shadow(0px 1px 2px rgba(0, 0, 0, 0.3));\n",
              "      fill: #FFFFFF;\n",
              "    }\n",
              "  </style>\n",
              "\n",
              "    <script>\n",
              "      const buttonEl =\n",
              "        document.querySelector('#df-afd7580a-fc57-40a9-a52f-7f08d58733a7 button.colab-df-convert');\n",
              "      buttonEl.style.display =\n",
              "        google.colab.kernel.accessAllowed ? 'block' : 'none';\n",
              "\n",
              "      async function convertToInteractive(key) {\n",
              "        const element = document.querySelector('#df-afd7580a-fc57-40a9-a52f-7f08d58733a7');\n",
              "        const dataTable =\n",
              "          await google.colab.kernel.invokeFunction('convertToInteractive',\n",
              "                                                    [key], {});\n",
              "        if (!dataTable) return;\n",
              "\n",
              "        const docLinkHtml = 'Like what you see? Visit the ' +\n",
              "          '<a target=\"_blank\" href=https://colab.research.google.com/notebooks/data_table.ipynb>data table notebook</a>'\n",
              "          + ' to learn more about interactive tables.';\n",
              "        element.innerHTML = '';\n",
              "        dataTable['output_type'] = 'display_data';\n",
              "        await google.colab.output.renderOutput(dataTable, element);\n",
              "        const docLink = document.createElement('div');\n",
              "        docLink.innerHTML = docLinkHtml;\n",
              "        element.appendChild(docLink);\n",
              "      }\n",
              "    </script>\n",
              "  </div>\n",
              "\n",
              "    </div>\n",
              "  </div>\n"
            ],
            "text/plain": [
              "                                               claim  \\\n",
              "0  Delhi: Group of students protest outside offic...   \n",
              "\n",
              "                                         claim_image  \\\n",
              "0  http://pbs.twimg.com/media/EOJMHR4VUAALSeG.jpg...   \n",
              "\n",
              "                                            document  \\\n",
              "0  Hundreds of Jamia Millia Islamia students prot...   \n",
              "\n",
              "                                      document_image                 Category  \\\n",
              "0  http://pbs.twimg.com/media/EOJ4Q47UcAAq6wy.jpg...  Insufficient_Multimodal   \n",
              "\n",
              "  Claim OCR Document OCR  claim_length  document_length     rouge  text_sim  \\\n",
              "0       ANI          NaN           230             1778  0.615385  0.712563   \n",
              "\n",
              "   text_clip_label   img_sim  text_sim_2  \n",
              "0                0  0.619836    0.765613  "
            ]
          },
          "execution_count": 6,
          "metadata": {},
          "output_type": "execute_result"
        }
      ],
      "source": [
        "test_df.head(1)"
      ]
    },
    {
      "cell_type": "code",
      "execution_count": null,
      "metadata": {
        "id": "xqiH2PDUfIi0"
      },
      "outputs": [],
      "source": [
        "\"\"\" Note here that the model originally used by INO is in the variable\n",
        " text_model_2, which has to do with the fact that it is never mentioned by INO,\n",
        " and we only found out later in the replication process which variant it was.\n",
        " It was easier to use this contraintuitive notation than to rewrite the\n",
        " whole code.\n",
        "\"\"\"\n",
        "\n",
        "text_model = SentenceTransformer('all-MiniLM-L6-v2')\n",
        "text_model_2 = SentenceTransformer('paraphrase-MiniLM-L6-v2')\n",
        "clip = SentenceTransformer('clip-ViT-B-32-multilingual-v1')\n",
        "image_model = ResNet50(weights='imagenet', include_top=False)\n",
        "rouge = Rouge()"
      ]
    },
    {
      "cell_type": "markdown",
      "metadata": {
        "id": "lQ7RDiwPyhbn"
      },
      "source": [
        "Add text and image features to the datasets"
      ]
    },
    {
      "cell_type": "code",
      "execution_count": null,
      "metadata": {
        "id": "TJGKiAmMRpNj"
      },
      "outputs": [],
      "source": [
        "# length feature\n",
        "train_df['claim_length'] = train_df['claim'].str.len()\n",
        "train_df['document_length'] = train_df['document'].str.len()"
      ]
    },
    {
      "cell_type": "code",
      "source": [
        "val_df['claim_length'] = val_df['claim'].str.len()\n",
        "val_df['document_length'] = val_df['document'].str.len()"
      ],
      "metadata": {
        "id": "bFyprgE3C8Gp"
      },
      "execution_count": null,
      "outputs": []
    },
    {
      "cell_type": "code",
      "execution_count": null,
      "metadata": {
        "id": "S3OgDq3kqmZR"
      },
      "outputs": [],
      "source": [
        "test_df['claim_length'] = test_df['claim'].str.len()\n",
        "test_df['document_length'] = test_df['document'].str.len()"
      ]
    },
    {
      "cell_type": "code",
      "execution_count": null,
      "metadata": {
        "id": "5qjAz51xv-2W"
      },
      "outputs": [],
      "source": [
        "# ROUGE feature\n",
        "def get_rouge(df):\n",
        "  rouge1 = []\n",
        "  for n, row in tqdm(df.iterrows(), total=len(df)):\n",
        "    r = rouge.get_scores(row['document'], row['claim'])\n",
        "    rouge1.append(r[0]['rouge-1']['r'])\n",
        "  return rouge1"
      ]
    },
    {
      "cell_type": "code",
      "execution_count": null,
      "metadata": {
        "id": "lB0xMIr4RcJl"
      },
      "outputs": [],
      "source": [
        "train_df['rouge'] = get_rouge(train_df)"
      ]
    },
    {
      "cell_type": "code",
      "source": [
        "val_df['rouge'] = get_rouge(val_df)"
      ],
      "metadata": {
        "id": "pVvTGfiWDMHH"
      },
      "execution_count": null,
      "outputs": []
    },
    {
      "cell_type": "code",
      "execution_count": null,
      "metadata": {
        "id": "O1KTP_XXq0CX"
      },
      "outputs": [],
      "source": [
        "test_df['rouge'] = get_rouge(test_df)"
      ]
    },
    {
      "cell_type": "code",
      "execution_count": null,
      "metadata": {
        "id": "nEyJEb7Qt8Ek"
      },
      "outputs": [],
      "source": [
        "# SBERT feature\n",
        "def get_text_sim(df, model):\n",
        "  chunk = 1024\n",
        "  sim = []\n",
        "  for i in tqdm(range(0, len(df), chunk), total = math.ceil(len(df)/chunk)):\n",
        "    matrix = util.cos_sim(model.encode(df['claim'][i:i+chunk].to_numpy()),\n",
        "                          model.encode(df['document'][i:i+chunk].to_numpy()))\n",
        "    for row in [round(matrix[j, j].item(), 6) for j in range(len(matrix))]:\n",
        "      sim.append(row)\n",
        "  return sim"
      ]
    },
    {
      "cell_type": "code",
      "execution_count": null,
      "metadata": {
        "id": "ttpMeRVBBMmg"
      },
      "outputs": [],
      "source": [
        "train_df['text_sim'] = get_text_sim(train_df, text_model)"
      ]
    },
    {
      "cell_type": "code",
      "execution_count": null,
      "metadata": {
        "id": "4Q0Gg1f5CrxL"
      },
      "outputs": [],
      "source": [
        "train_df['text_sim_2'] = get_text_sim(train_df, text_model_2)"
      ]
    },
    {
      "cell_type": "code",
      "source": [
        "val_df['text_sim'] = get_text_sim(val_df, text_model)"
      ],
      "metadata": {
        "id": "dt65-XwUDYgg"
      },
      "execution_count": null,
      "outputs": []
    },
    {
      "cell_type": "code",
      "source": [
        "val_df['text_sim_2'] = get_text_sim(val_df, text_model_2)"
      ],
      "metadata": {
        "id": "N9OywKdEDj-6"
      },
      "execution_count": null,
      "outputs": []
    },
    {
      "cell_type": "code",
      "execution_count": null,
      "metadata": {
        "id": "T6G4CtCUCy60"
      },
      "outputs": [],
      "source": [
        "test_df['text_sim'] = get_text_sim(test_df, text_model)"
      ]
    },
    {
      "cell_type": "code",
      "execution_count": null,
      "metadata": {
        "id": "w3grbWFzDSs6"
      },
      "outputs": [],
      "source": [
        "test_df['text_sim_2'] = get_text_sim(test_df, text_model_2)"
      ]
    },
    {
      "cell_type": "code",
      "execution_count": null,
      "metadata": {
        "id": "khIxBKeMwmdN"
      },
      "outputs": [],
      "source": [
        "# CLIP Module\n",
        "def get_embeddings(df):\n",
        "  return np.hstack([clip.encode(df['claim']), clip.encode(df['document'])])"
      ]
    },
    {
      "cell_type": "code",
      "execution_count": null,
      "metadata": {
        "id": "CWY99KzT0GfD"
      },
      "outputs": [],
      "source": [
        "# X_train = get_embeddings(train_df)\n",
        "X_train = pd.read_csv('/content/drive/MyDrive/data/clip_features.csv', header=None)\n",
        "category = {\n",
        "     'Support_Multimodal': 0,\n",
        "     'Support_Text': 0,\n",
        "     'Insufficient_Multimodal': 1,\n",
        "     'Insufficient_Text': 1,\n",
        "     'Refute': 2\n",
        " }\n",
        "y = train_df['Category'].map(category)"
      ]
    },
    {
      "cell_type": "code",
      "execution_count": null,
      "metadata": {
        "colab": {
          "base_uri": "https://localhost:8080/",
          "height": 477
        },
        "id": "G_hL_1d01aZu",
        "outputId": "76c17849-4033-4c28-ba08-0ea176dc8a42"
      },
      "outputs": [
        {
          "output_type": "stream",
          "name": "stdout",
          "text": [
            "Iteration 1, loss = 0.60954107\n",
            "Iteration 2, loss = 0.50490811\n",
            "Iteration 3, loss = 0.48264657\n",
            "Iteration 4, loss = 0.46822462\n",
            "Iteration 5, loss = 0.45318851\n",
            "Iteration 6, loss = 0.44719488\n",
            "Iteration 7, loss = 0.43308367\n",
            "Iteration 8, loss = 0.41810177\n",
            "Iteration 9, loss = 0.41198572\n",
            "Iteration 10, loss = 0.40209756\n",
            "Iteration 11, loss = 0.38951919\n",
            "Iteration 12, loss = 0.38016364\n",
            "Iteration 13, loss = 0.36828233\n",
            "Iteration 14, loss = 0.36069894\n",
            "Iteration 15, loss = 0.35144411\n",
            "Iteration 16, loss = 0.34180368\n",
            "Iteration 17, loss = 0.33592973\n",
            "Iteration 18, loss = 0.33082569\n",
            "Iteration 19, loss = 0.32537413\n",
            "Iteration 20, loss = 0.31372623\n"
          ]
        },
        {
          "output_type": "stream",
          "name": "stderr",
          "text": [
            "/usr/local/lib/python3.10/dist-packages/sklearn/neural_network/_multilayer_perceptron.py:686: ConvergenceWarning: Stochastic Optimizer: Maximum iterations (20) reached and the optimization hasn't converged yet.\n",
            "  warnings.warn(\n"
          ]
        },
        {
          "output_type": "execute_result",
          "data": {
            "text/plain": [
              "MLPClassifier(max_iter=20, verbose=True)"
            ],
            "text/html": [
              "<style>#sk-container-id-1 {color: black;background-color: white;}#sk-container-id-1 pre{padding: 0;}#sk-container-id-1 div.sk-toggleable {background-color: white;}#sk-container-id-1 label.sk-toggleable__label {cursor: pointer;display: block;width: 100%;margin-bottom: 0;padding: 0.3em;box-sizing: border-box;text-align: center;}#sk-container-id-1 label.sk-toggleable__label-arrow:before {content: \"▸\";float: left;margin-right: 0.25em;color: #696969;}#sk-container-id-1 label.sk-toggleable__label-arrow:hover:before {color: black;}#sk-container-id-1 div.sk-estimator:hover label.sk-toggleable__label-arrow:before {color: black;}#sk-container-id-1 div.sk-toggleable__content {max-height: 0;max-width: 0;overflow: hidden;text-align: left;background-color: #f0f8ff;}#sk-container-id-1 div.sk-toggleable__content pre {margin: 0.2em;color: black;border-radius: 0.25em;background-color: #f0f8ff;}#sk-container-id-1 input.sk-toggleable__control:checked~div.sk-toggleable__content {max-height: 200px;max-width: 100%;overflow: auto;}#sk-container-id-1 input.sk-toggleable__control:checked~label.sk-toggleable__label-arrow:before {content: \"▾\";}#sk-container-id-1 div.sk-estimator input.sk-toggleable__control:checked~label.sk-toggleable__label {background-color: #d4ebff;}#sk-container-id-1 div.sk-label input.sk-toggleable__control:checked~label.sk-toggleable__label {background-color: #d4ebff;}#sk-container-id-1 input.sk-hidden--visually {border: 0;clip: rect(1px 1px 1px 1px);clip: rect(1px, 1px, 1px, 1px);height: 1px;margin: -1px;overflow: hidden;padding: 0;position: absolute;width: 1px;}#sk-container-id-1 div.sk-estimator {font-family: monospace;background-color: #f0f8ff;border: 1px dotted black;border-radius: 0.25em;box-sizing: border-box;margin-bottom: 0.5em;}#sk-container-id-1 div.sk-estimator:hover {background-color: #d4ebff;}#sk-container-id-1 div.sk-parallel-item::after {content: \"\";width: 100%;border-bottom: 1px solid gray;flex-grow: 1;}#sk-container-id-1 div.sk-label:hover label.sk-toggleable__label {background-color: #d4ebff;}#sk-container-id-1 div.sk-serial::before {content: \"\";position: absolute;border-left: 1px solid gray;box-sizing: border-box;top: 0;bottom: 0;left: 50%;z-index: 0;}#sk-container-id-1 div.sk-serial {display: flex;flex-direction: column;align-items: center;background-color: white;padding-right: 0.2em;padding-left: 0.2em;position: relative;}#sk-container-id-1 div.sk-item {position: relative;z-index: 1;}#sk-container-id-1 div.sk-parallel {display: flex;align-items: stretch;justify-content: center;background-color: white;position: relative;}#sk-container-id-1 div.sk-item::before, #sk-container-id-1 div.sk-parallel-item::before {content: \"\";position: absolute;border-left: 1px solid gray;box-sizing: border-box;top: 0;bottom: 0;left: 50%;z-index: -1;}#sk-container-id-1 div.sk-parallel-item {display: flex;flex-direction: column;z-index: 1;position: relative;background-color: white;}#sk-container-id-1 div.sk-parallel-item:first-child::after {align-self: flex-end;width: 50%;}#sk-container-id-1 div.sk-parallel-item:last-child::after {align-self: flex-start;width: 50%;}#sk-container-id-1 div.sk-parallel-item:only-child::after {width: 0;}#sk-container-id-1 div.sk-dashed-wrapped {border: 1px dashed gray;margin: 0 0.4em 0.5em 0.4em;box-sizing: border-box;padding-bottom: 0.4em;background-color: white;}#sk-container-id-1 div.sk-label label {font-family: monospace;font-weight: bold;display: inline-block;line-height: 1.2em;}#sk-container-id-1 div.sk-label-container {text-align: center;}#sk-container-id-1 div.sk-container {/* jupyter's `normalize.less` sets `[hidden] { display: none; }` but bootstrap.min.css set `[hidden] { display: none !important; }` so we also need the `!important` here to be able to override the default hidden behavior on the sphinx rendered scikit-learn.org. See: https://github.com/scikit-learn/scikit-learn/issues/21755 */display: inline-block !important;position: relative;}#sk-container-id-1 div.sk-text-repr-fallback {display: none;}</style><div id=\"sk-container-id-1\" class=\"sk-top-container\"><div class=\"sk-text-repr-fallback\"><pre>MLPClassifier(max_iter=20, verbose=True)</pre><b>In a Jupyter environment, please rerun this cell to show the HTML representation or trust the notebook. <br />On GitHub, the HTML representation is unable to render, please try loading this page with nbviewer.org.</b></div><div class=\"sk-container\" hidden><div class=\"sk-item\"><div class=\"sk-estimator sk-toggleable\"><input class=\"sk-toggleable__control sk-hidden--visually\" id=\"sk-estimator-id-1\" type=\"checkbox\" checked><label for=\"sk-estimator-id-1\" class=\"sk-toggleable__label sk-toggleable__label-arrow\">MLPClassifier</label><div class=\"sk-toggleable__content\"><pre>MLPClassifier(max_iter=20, verbose=True)</pre></div></div></div></div></div>"
            ]
          },
          "metadata": {},
          "execution_count": 21
        }
      ],
      "source": [
        "mlp = MLPClassifier(hidden_layer_sizes=(100,), solver='adam', max_iter=20, verbose=True)\n",
        "mlp.fit(X_train, y)"
      ]
    },
    {
      "cell_type": "code",
      "execution_count": null,
      "metadata": {
        "id": "oQTWx3NdXeEy"
      },
      "outputs": [],
      "source": [
        "pred = mlp.predict(X_train)\n",
        "train_df['text_clip_label'] = pred"
      ]
    },
    {
      "cell_type": "code",
      "source": [
        "X_val = get_embeddings(val_df)\n",
        "pred = mlp.predict(X_val)\n",
        "val_df['text_clip_label'] = pred"
      ],
      "metadata": {
        "id": "bSbF7QTvHZZQ"
      },
      "execution_count": null,
      "outputs": []
    },
    {
      "cell_type": "code",
      "execution_count": null,
      "metadata": {
        "id": "_IYwQtEXv41D"
      },
      "outputs": [],
      "source": [
        "X_test = get_embeddings(test_df)\n",
        "pred = mlp.predict(X_test)\n",
        "test_df['text_clip_label'] = pred"
      ]
    },
    {
      "cell_type": "code",
      "execution_count": null,
      "metadata": {
        "id": "KPMyxkr0Q8dW"
      },
      "outputs": [],
      "source": [
        "# RESNET50\n",
        "headers = {'User-Agent': 'Mozilla/5.0 (Windows NT 10.0; Win64; x64) AppleWebKit/537.36 (KHTML, like Gecko) Chrome/91.0.4472.124 Safari/537.36'}\n",
        "\n",
        "def download_images(df, path):\n",
        "  for n, row in tqdm(df.iterrows(), total=len(df)):\n",
        "    try:\n",
        "      response = requests.get(row['claim_image'], headers=headers)\n",
        "      response.raise_for_status()\n",
        "      image = Image.open(BytesIO(response.content))\n",
        "      image = image.convert('RGB')\n",
        "\n",
        "      response = requests.get(row['document_image'], headers=headers)\n",
        "      response.raise_for_status()\n",
        "      image1 = Image.open(BytesIO(response.content))\n",
        "      image1 = image1.convert('RGB')\n",
        "    except:\n",
        "      continue\n",
        "\n",
        "    image1.save(path + 'document/' + str(int(n/1000)*1000) + '/document_img_' + str(n) + '.jpg')\n",
        "    image.save(path + 'claim/' + str(int(n/1000)*1000) + '/claim_img_' + str(n) + '.jpg')\n"
      ]
    },
    {
      "cell_type": "code",
      "execution_count": null,
      "metadata": {
        "id": "vaS2zhkhFOCg"
      },
      "outputs": [],
      "source": [
        "download_images(train_df, '/content/drive/MyDrive/data/images/train/')"
      ]
    },
    {
      "cell_type": "code",
      "source": [
        "download_images(val_df, '/content/drive/MyDrive/data/images/val/')"
      ],
      "metadata": {
        "id": "Pd-UoW5pJmLq"
      },
      "execution_count": null,
      "outputs": []
    },
    {
      "cell_type": "code",
      "execution_count": null,
      "metadata": {
        "id": "bySu5-GnFf3H"
      },
      "outputs": [],
      "source": [
        "download_images(test_df, '/content/drive/MyDrive/data/images/test/')"
      ]
    },
    {
      "cell_type": "code",
      "execution_count": null,
      "metadata": {
        "id": "1m-qmxt4GHr4"
      },
      "outputs": [],
      "source": [
        "def get_img_sim(size, path, dump_file_path):\n",
        "  with open(dump_file_path, 'a') as sim:\n",
        "    for n in tqdm(range(size), total=size, initial=0):\n",
        "      try:\n",
        "        p = path + 'claim/' + str(int(n/1000)*1000) + '/claim_img_' + str(n) + '.jpg'\n",
        "        img = image.load_img(p, target_size=(224, 224))\n",
        "        img_array = image.img_to_array(img)\n",
        "        img_array = np.expand_dims(img_array, axis=0)\n",
        "        img_array = preprocess_input(img_array)\n",
        "        claim_pred = image_model.predict(img_array, verbose=0)\n",
        "\n",
        "        p = path + 'document/' + str(int(n/1000)*1000) + '/document_img_' + str(n) + '.jpg'\n",
        "        img = image.load_img(p, target_size=(224, 224))\n",
        "        img_array = image.img_to_array(img)\n",
        "        img_array = np.expand_dims(img_array, axis=0)\n",
        "        img_array = preprocess_input(img_array)\n",
        "        document_pred = image_model.predict(img_array, verbose=0)\n",
        "\n",
        "        sim.write(str(n) + ', ' + str(cosine_similarity(np.mean(claim_pred, axis=(1,2)), np.mean(document_pred, axis=(1, 2)))[0][0]) + '\\n')\n",
        "        if n % 100 == 0:\n",
        "          sim.flush()\n",
        "      except:\n",
        "        sim.write(str(n) + ', ' + str(0) + '\\n')"
      ]
    },
    {
      "cell_type": "code",
      "execution_count": null,
      "metadata": {
        "colab": {
          "background_save": true
        },
        "id": "hlajGNXnkhzW"
      },
      "outputs": [],
      "source": [
        "get_img_sim(35000, '/content/drive/MyDrive/data/images/train/', '/content/drive/MyDrive/data/img_sim_train.csv')"
      ]
    },
    {
      "cell_type": "code",
      "execution_count": null,
      "metadata": {
        "id": "eAVqjJP85cQ_"
      },
      "outputs": [],
      "source": [
        "img_sim_train_df = pd.read_csv('/content/drive/MyDrive/data/img_sim_train.csv', sep=',', header=None)\n",
        "train_df['img_sim'] = img_sim_train_df[1]"
      ]
    },
    {
      "cell_type": "code",
      "execution_count": null,
      "metadata": {
        "id": "JH5AgwMtOxwd"
      },
      "outputs": [],
      "source": [
        "get_img_sim(7500, '/content/drive/MyDrive/data/images/val/', '/content/drive/MyDrive/data/img_sim_val.csv')"
      ]
    },
    {
      "cell_type": "code",
      "execution_count": 21,
      "metadata": {
        "id": "VdCPJoqaO1JW"
      },
      "outputs": [],
      "source": [
        "img_sim_val_df = pd.read_csv('/content/drive/MyDrive/data/img_sim_val.csv', sep=',', header=None)\n",
        "val_df['img_sim'] = img_sim_val_df[1]"
      ]
    },
    {
      "cell_type": "code",
      "execution_count": null,
      "metadata": {
        "id": "nrt4amPhHYaW"
      },
      "outputs": [],
      "source": [
        "get_img_sim(7500, '/content/drive/MyDrive/data/images/test/', '/content/drive/MyDrive/data/img_sim_test.csv')"
      ]
    },
    {
      "cell_type": "code",
      "execution_count": null,
      "metadata": {
        "id": "awbs8TWoIoqp"
      },
      "outputs": [],
      "source": [
        "img_sim_test_df = pd.read_csv('/content/drive/MyDrive/data/img_sim_test.csv', sep=',', header=None)\n",
        "test_df['img_sim'] = img_sim_test_df[1]"
      ]
    },
    {
      "cell_type": "markdown",
      "metadata": {
        "id": "qw9l6iOZzAGW"
      },
      "source": [
        "Now that we have all the features, we save the datasets for future use and proceed with training the RandomForest classifier"
      ]
    },
    {
      "cell_type": "code",
      "execution_count": null,
      "metadata": {
        "id": "Rk0OjxZH1q9n"
      },
      "outputs": [],
      "source": [
        "train_df.to_csv('/content/drive/MyDrive/data/train_mod.csv',sep='\\t',index=False,header=True)"
      ]
    },
    {
      "cell_type": "code",
      "source": [
        "val_df.to_csv('/content/drive/MyDrive/data/val_mod.csv',sep='\\t',index=False,header=True)"
      ],
      "metadata": {
        "id": "y7TFxN0HEef_"
      },
      "execution_count": 29,
      "outputs": []
    },
    {
      "cell_type": "code",
      "execution_count": null,
      "metadata": {
        "id": "fHoXElqdsYn_"
      },
      "outputs": [],
      "source": [
        "test_df.to_csv('/content/drive/MyDrive/data/test_mod.csv',sep='\\t',index=False,header=True)"
      ]
    },
    {
      "cell_type": "markdown",
      "metadata": {
        "id": "B4fTZSbmqHF8"
      },
      "source": [
        "\n",
        "\n",
        "\n",
        "\n",
        "\n",
        "\n",
        "\n",
        "\n",
        "\n",
        "\n",
        "\n",
        "\n",
        "..."
      ]
    },
    {
      "cell_type": "code",
      "execution_count": 8,
      "metadata": {
        "colab": {
          "base_uri": "https://localhost:8080/"
        },
        "id": "VgmrWoFK4BP7",
        "outputId": "34f8d703-be42-4d2b-9790-ffa0d3d1585f"
      },
      "outputs": [
        {
          "output_type": "stream",
          "name": "stdout",
          "text": [
            "(34838, 14)\n",
            "(7432, 14)\n",
            "(7419, 14)\n"
          ]
        }
      ],
      "source": [
        "# filter out samples that we couldn't download images for\n",
        "\n",
        "no_image_train = train_df[train_df['img_sim'] == 0]\n",
        "merged = train_df.merge(no_image_train, how='outer', indicator=True)\n",
        "X_train = merged[merged['_merge'] == 'left_only'].drop(columns='_merge')\n",
        "print(X_train.shape)\n",
        "\n",
        "no_image_val = val_df[val_df['img_sim'] == 0]\n",
        "merged = val_df.merge(no_image_val, how='outer', indicator=True)\n",
        "X_val = merged[merged['_merge'] == 'left_only'].drop(columns='_merge')\n",
        "print(X_val.shape)\n",
        "\n",
        "no_image_test = test_df[test_df['img_sim'] == 0]\n",
        "merged = test_df.merge(no_image_test, how='outer', indicator=True)\n",
        "X_test = merged[merged['_merge'] == 'left_only'].drop(columns='_merge')\n",
        "print(X_test.shape)"
      ]
    },
    {
      "cell_type": "code",
      "execution_count": 9,
      "metadata": {
        "id": "fK57fYSI0wO-"
      },
      "outputs": [],
      "source": [
        "X_train_2 = X_train[['claim_length', 'document_length', 'rouge', 'text_sim_2', 'text_clip_label', 'img_sim']]\n",
        "X_val_2 = X_val[['claim_length', 'document_length', 'rouge', 'text_sim_2', 'text_clip_label', 'img_sim']]\n",
        "X_test_2 = X_test[['claim_length', 'document_length', 'rouge', 'text_sim_2', 'text_clip_label', 'img_sim']]"
      ]
    },
    {
      "cell_type": "code",
      "execution_count": 10,
      "metadata": {
        "id": "JorTkmrvzwF1"
      },
      "outputs": [],
      "source": [
        "y_train = X_train['Category']\n",
        "X_train = X_train[['claim_length', 'document_length', 'rouge', 'text_sim', 'text_clip_label', 'img_sim']]\n",
        "y_val = X_val['Category']\n",
        "X_val = X_val[['claim_length', 'document_length', 'rouge', 'text_sim', 'text_clip_label', 'img_sim']]\n",
        "y_test = X_test['Category']\n",
        "X_test = X_test[['claim_length', 'document_length', 'rouge', 'text_sim', 'text_clip_label', 'img_sim']]"
      ]
    },
    {
      "cell_type": "code",
      "execution_count": 11,
      "metadata": {
        "id": "bRSOf7E408oh"
      },
      "outputs": [],
      "source": [
        "sc=StandardScaler()\n",
        "sc.fit(X_train)\n",
        "X_train = pd.DataFrame(sc.transform(X_train), columns=['claim_length', 'document_length', 'rouge', 'text_sim', 'text_clip_label', 'img_sim'])\n",
        "X_val = pd.DataFrame(sc.transform(X_val), columns=['claim_length', 'document_length', 'rouge', 'text_sim', 'text_clip_label', 'img_sim'])\n",
        "X_test = pd.DataFrame(sc.transform(X_test), columns=['claim_length', 'document_length', 'rouge', 'text_sim', 'text_clip_label', 'img_sim'])"
      ]
    },
    {
      "cell_type": "code",
      "execution_count": 12,
      "metadata": {
        "id": "zyXilxRI16KV"
      },
      "outputs": [],
      "source": [
        "sc.fit(X_train_2)\n",
        "X_train_2 = pd.DataFrame(sc.transform(X_train_2), columns=['claim_length', 'document_length', 'rouge', 'text_sim_2', 'text_clip_label', 'img_sim'])\n",
        "X_val_2 = pd.DataFrame(sc.transform(X_val_2), columns=['claim_length', 'document_length', 'rouge', 'text_sim_2', 'text_clip_label', 'img_sim'])\n",
        "X_test_2 = pd.DataFrame(sc.transform(X_test_2), columns=['claim_length', 'document_length', 'rouge', 'text_sim_2', 'text_clip_label', 'img_sim'])"
      ]
    },
    {
      "cell_type": "code",
      "execution_count": null,
      "metadata": {
        "colab": {
          "base_uri": "https://localhost:8080/"
        },
        "id": "NkNEUA202Jb0",
        "outputId": "639457a1-d651-49e6-f199-d66bd4e8b916"
      },
      "outputs": [
        {
          "name": "stdout",
          "output_type": "stream",
          "text": [
            "0.7726915738976211\n",
            "0.7627738185365759\n"
          ]
        }
      ],
      "source": [
        "clf = RandomForestClassifier(n_estimators=500,max_depth=40, random_state=16)\n",
        "clf.fit(X_train,y_train)\n",
        "predictions = clf.predict(X_test)\n",
        "print(f1_score(y_test, predictions, average='weighted'))\n",
        "clf.fit(X_train_2,y_train)\n",
        "predictions = clf.predict(X_test_2)\n",
        "print(f1_score(y_test, predictions, average='weighted'))\n"
      ]
    },
    {
      "cell_type": "markdown",
      "metadata": {
        "id": "VLujOg4y667G"
      },
      "source": [
        "Ablation experiments:\n",
        "\n",
        "| Model Name           | Validation F1 score |\n",
        "|----------------------|---------------------|\n",
        "| Without Sentence BERT| 0.7926              |\n",
        "| Without CLIP         | 0.7911              |\n",
        "| Without ROUGE+length | 0.7709              |\n",
        "| Without ResNet50     | 0.6007              |\n",
        "| Baseline             | 0.6664              |\n",
        "| Final model          | 0.8078              |"
      ]
    },
    {
      "cell_type": "code",
      "execution_count": 14,
      "metadata": {
        "colab": {
          "base_uri": "https://localhost:8080/"
        },
        "id": "d5OsKs8z7vM3",
        "outputId": "da7e4217-7829-4ae9-8001-21dffeddd2d4"
      },
      "outputs": [
        {
          "output_type": "stream",
          "name": "stdout",
          "text": [
            "0.7601965781896\n"
          ]
        }
      ],
      "source": [
        "# without sentence BERT\n",
        "X_train_abl1 = X_train[['claim_length', 'document_length', 'rouge', 'text_clip_label', 'img_sim']].copy()\n",
        "X_val_abl1 = X_val[['claim_length', 'document_length', 'rouge', 'text_clip_label', 'img_sim']].copy()\n",
        "\n",
        "clf = RandomForestClassifier(n_estimators=500,max_depth=40, random_state=16)\n",
        "clf = clf.fit(X_train_abl1,y_train)\n",
        "predictions = clf.predict(X_val_abl1)\n",
        "score = f1_score(y_val, predictions, average='weighted')\n",
        "print(score)"
      ]
    },
    {
      "cell_type": "code",
      "execution_count": 15,
      "metadata": {
        "colab": {
          "base_uri": "https://localhost:8080/"
        },
        "id": "pXmHMGR_80uY",
        "outputId": "756d8152-13b9-410c-8fb4-d55d6dea44f9"
      },
      "outputs": [
        {
          "output_type": "stream",
          "name": "stdout",
          "text": [
            "all-MiniLM-L6-v2 0.7058051346686504\n",
            "paraphrase-MiniLM-L6-v2 0.7166043399726676\n"
          ]
        }
      ],
      "source": [
        "# without CLIP\n",
        "X_train_abl2 = X_train[['claim_length', 'document_length', 'rouge', 'text_sim', 'img_sim']]\n",
        "X_val_abl2 = X_val[['claim_length', 'document_length', 'rouge', 'text_sim', 'img_sim']]\n",
        "\n",
        "X_train_abl2_2 = X_train_2[['claim_length', 'document_length', 'rouge', 'text_sim_2', 'img_sim']]\n",
        "X_val_abl2_2 = X_val_2[['claim_length', 'document_length', 'rouge', 'text_sim_2', 'img_sim']]\n",
        "\n",
        "clf = RandomForestClassifier(n_estimators=500,max_depth=40, random_state=16)\n",
        "clf.fit(X_train_abl2,y_train)\n",
        "predictions = clf.predict(X_val_abl2)\n",
        "score = f1_score(y_val, predictions, average='weighted')\n",
        "print('all-MiniLM-L6-v2', score)\n",
        "\n",
        "clf.fit(X_train_abl2_2,y_train)\n",
        "predictions = clf.predict(X_val_abl2_2)\n",
        "score = f1_score(y_val, predictions, average='weighted')\n",
        "print('paraphrase-MiniLM-L6-v2', score)"
      ]
    },
    {
      "cell_type": "code",
      "execution_count": 16,
      "metadata": {
        "colab": {
          "base_uri": "https://localhost:8080/"
        },
        "id": "NofnL5rx9Tbe",
        "outputId": "d7136cb1-f6ff-41d4-c0b6-7a2d97cc0b90"
      },
      "outputs": [
        {
          "output_type": "stream",
          "name": "stdout",
          "text": [
            "all-MiniLM-L6-v2 0.7445958489286475\n",
            "paraphrase-MiniLM-L6-v2 0.7425484442789415\n"
          ]
        }
      ],
      "source": [
        "# without rouge + length\n",
        "X_train_abl3 = X_train[['text_sim', 'text_clip_label', 'img_sim']]\n",
        "X_val_abl3 = X_val[['text_sim', 'text_clip_label', 'img_sim']]\n",
        "\n",
        "X_train_abl3_2 = X_train_2[['text_sim_2', 'text_clip_label', 'img_sim']]\n",
        "X_val_abl3_2 = X_val_2[['text_sim_2', 'text_clip_label', 'img_sim']]\n",
        "\n",
        "clf = RandomForestClassifier(n_estimators=500,max_depth=40, random_state=16)\n",
        "clf.fit(X_train_abl3,y_train)\n",
        "predictions = clf.predict(X_val_abl3)\n",
        "score = f1_score(y_val, predictions, average='weighted')\n",
        "print('all-MiniLM-L6-v2', score)\n",
        "\n",
        "clf.fit(X_train_abl3_2,y_train)\n",
        "predictions = clf.predict(X_val_abl3_2)\n",
        "score = f1_score(y_val, predictions, average='weighted')\n",
        "print('paraphrase-MiniLM-L6-v2', score)"
      ]
    },
    {
      "cell_type": "code",
      "execution_count": 17,
      "metadata": {
        "colab": {
          "base_uri": "https://localhost:8080/"
        },
        "id": "huSqTJLM9pFW",
        "outputId": "4b0d7dee-12fd-4926-bad9-117ad02d3dd4"
      },
      "outputs": [
        {
          "output_type": "stream",
          "name": "stdout",
          "text": [
            "all-MiniLM-L6-v2 0.5961898044689335\n",
            "paraphrase-MiniLM-L6-v2 0.5832171360343918\n"
          ]
        }
      ],
      "source": [
        "# without ResNet50\n",
        "X_train_abl4 = X_train[['claim_length', 'document_length', 'rouge', 'text_sim', 'text_clip_label']]\n",
        "X_val_abl4 = X_val[['claim_length', 'document_length', 'rouge', 'text_sim', 'text_clip_label']]\n",
        "\n",
        "X_train_abl4_2 = X_train_2[['claim_length', 'document_length', 'rouge', 'text_sim_2', 'text_clip_label']]\n",
        "X_val_abl4_2 = X_val_2[['claim_length', 'document_length', 'rouge', 'text_sim_2', 'text_clip_label']]\n",
        "\n",
        "clf = RandomForestClassifier(n_estimators=500,max_depth=40, random_state=16)\n",
        "clf.fit(X_train_abl4,y_train)\n",
        "predictions = clf.predict(X_val_abl4)\n",
        "score = f1_score(y_val, predictions, average='weighted')\n",
        "print('all-MiniLM-L6-v2', score)\n",
        "\n",
        "clf.fit(X_train_abl4_2,y_train)\n",
        "predictions = clf.predict(X_val_abl4_2)\n",
        "score = f1_score(y_val, predictions, average='weighted')\n",
        "print('paraphrase-MiniLM-L6-v2', score)"
      ]
    },
    {
      "cell_type": "code",
      "execution_count": 18,
      "metadata": {
        "colab": {
          "base_uri": "https://localhost:8080/"
        },
        "id": "2HfpqKWw-DJS",
        "outputId": "abcd5701-ecf7-4fc7-8290-8fff16955e1b"
      },
      "outputs": [
        {
          "output_type": "stream",
          "name": "stdout",
          "text": [
            "0.48612791537887196\n",
            "0.4742488309415902\n"
          ]
        }
      ],
      "source": [
        "# baseline (just SBERT + ResNet50)\n",
        "X_train_abl5 = X_train[['text_sim', 'img_sim']]\n",
        "X_val_abl5 = X_val[['text_sim', 'img_sim']]\n",
        "\n",
        "X_train_abl5_2 = X_train_2[['text_sim_2', 'img_sim']]\n",
        "X_val_abl5_2 = X_val_2[['text_sim_2', 'img_sim']]\n",
        "\n",
        "clf = RandomForestClassifier(n_estimators=500,max_depth=40, random_state=16)\n",
        "clf.fit(X_train_abl5,y_train)\n",
        "predictions = clf.predict(X_val_abl5)\n",
        "score = f1_score(y_val, predictions, average='weighted')\n",
        "print('all-MiniLM-L6-v2', score)\n",
        "\n",
        "clf.fit(X_train_abl5_2,y_train)\n",
        "predictions = clf.predict(X_val_abl5_2)\n",
        "score = f1_score(y_val, predictions, average='weighted')\n",
        "print('paraphrase-MiniLM-L6-v2', score)"
      ]
    }
  ],
  "metadata": {
    "accelerator": "GPU",
    "colab": {
      "gpuType": "T4",
      "provenance": []
    },
    "kernelspec": {
      "display_name": "Python 3",
      "name": "python3"
    },
    "language_info": {
      "name": "python"
    }
  },
  "nbformat": 4,
  "nbformat_minor": 0
}